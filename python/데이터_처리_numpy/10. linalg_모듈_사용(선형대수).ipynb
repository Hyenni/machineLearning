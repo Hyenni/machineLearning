{
 "cells": [
  {
   "cell_type": "markdown",
   "metadata": {},
   "source": [
    "### 학습목표\n",
    "#### linalg 서브모듈 함수 활용여 선형대수 연산하기"
   ]
  },
  {
   "cell_type": "code",
   "execution_count": 1,
   "metadata": {},
   "outputs": [],
   "source": [
    "import numpy as np"
   ]
  },
  {
   "cell_type": "markdown",
   "metadata": {},
   "source": [
    "#### np.linalg.inv\n",
    " - 역행렬을 구할 때 사용\n",
    " - 모든 차원의 값이 같아야 함"
   ]
  },
  {
   "cell_type": "code",
   "execution_count": 2,
   "metadata": {},
   "outputs": [
    {
     "name": "stdout",
     "output_type": "stream",
     "text": [
      "[[[0.52010957 0.63745057 0.6445105 ]\n",
      "  [0.6700035  0.44769053 0.25047975]\n",
      "  [0.67706473 0.55039553 0.90461554]]\n",
      "\n",
      " [[0.18033419 0.67401046 0.24984957]\n",
      "  [0.42252524 0.71841113 0.94807626]\n",
      "  [0.38925436 0.7816097  0.61420458]]\n",
      "\n",
      " [[0.74201074 0.3117918  0.01214225]\n",
      "  [0.73625348 0.15332571 0.06090329]\n",
      "  [0.31944537 0.40774861 0.65183914]]]\n"
     ]
    }
   ],
   "source": [
    "x = np.random.rand(3, 3, 3)\n",
    "print(x)"
   ]
  },
  {
   "cell_type": "code",
   "execution_count": 4,
   "metadata": {},
   "outputs": [
    {
     "data": {
      "text/plain": [
       "array([[[ 1.00000000e+00, -7.94699065e-17, -1.84732219e-16],\n",
       "        [-1.12073546e-16,  1.00000000e+00, -6.69565132e-17],\n",
       "        [-2.24857327e-16,  6.25678163e-17,  1.00000000e+00]],\n",
       "\n",
       "       [[ 1.00000000e+00, -8.61167453e-17,  3.22150973e-16],\n",
       "        [ 9.26926300e-17,  1.00000000e+00, -5.08793275e-17],\n",
       "        [-5.14266149e-17, -3.09931017e-16,  1.00000000e+00]],\n",
       "\n",
       "       [[ 1.00000000e+00,  1.36725231e-16,  2.78998825e-18],\n",
       "        [ 7.04779946e-17,  1.00000000e+00, -1.11367303e-17],\n",
       "        [ 1.26599795e-16,  2.56130837e-17,  1.00000000e+00]]])"
      ]
     },
     "execution_count": 4,
     "metadata": {},
     "output_type": "execute_result"
    }
   ],
   "source": [
    "np.matmul(x, np.linalg.inv(x))"
   ]
  },
  {
   "cell_type": "markdown",
   "metadata": {},
   "source": [
    "행렬 곱 사용: @\n",
    "\n",
    "역행렬을 곱했으니 단위행렬이 된 것을 확인할 수 있음"
   ]
  },
  {
   "cell_type": "code",
   "execution_count": 5,
   "metadata": {},
   "outputs": [
    {
     "data": {
      "text/plain": [
       "array([[[ 1.00000000e+00, -7.94699065e-17, -1.84732219e-16],\n",
       "        [-1.12073546e-16,  1.00000000e+00, -6.69565132e-17],\n",
       "        [-2.24857327e-16,  6.25678163e-17,  1.00000000e+00]],\n",
       "\n",
       "       [[ 1.00000000e+00, -8.61167453e-17,  3.22150973e-16],\n",
       "        [ 9.26926300e-17,  1.00000000e+00, -5.08793275e-17],\n",
       "        [-5.14266149e-17, -3.09931017e-16,  1.00000000e+00]],\n",
       "\n",
       "       [[ 1.00000000e+00,  1.36725231e-16,  2.78998825e-18],\n",
       "        [ 7.04779946e-17,  1.00000000e+00, -1.11367303e-17],\n",
       "        [ 1.26599795e-16,  2.56130837e-17,  1.00000000e+00]]])"
      ]
     },
     "execution_count": 5,
     "metadata": {},
     "output_type": "execute_result"
    }
   ],
   "source": [
    "x @ np.linalg.inv(x)"
   ]
  },
  {
   "cell_type": "markdown",
   "metadata": {},
   "source": [
    "#### np.linalg.solve\n",
    " - Ax = B 형태의 선형대수식 솔루션을 제공\n",
    " - 예제) 호랑이와 홍합의 합 : 25 호랑이 다리와 홍합 다리의 합은 64\n",
    "   - x + y = 25\n",
    "   - 2x + 4y = 64\n",
    "   \n",
    " $$\\begin{pmatrix} 1 & 1 \\\\ 2 & 4 \\end{pmatrix}\\begin{pmatrix} x \\\\ y \\end{pmatrix}= \\begin{pmatrix} 25 \\\\ 64 \\end{pmatrix}$$\n"
   ]
  },
  {
   "cell_type": "code",
   "execution_count": 6,
   "metadata": {},
   "outputs": [],
   "source": [
    "A = np.array([[1, 1], [2, 4]])\n",
    "B = np.array([25, 64])"
   ]
  },
  {
   "cell_type": "code",
   "execution_count": 7,
   "metadata": {},
   "outputs": [
    {
     "name": "stdout",
     "output_type": "stream",
     "text": [
      "[18.  7.]\n"
     ]
    }
   ],
   "source": [
    "x = np.linalg.solve(A, B)\n",
    "print(x)"
   ]
  },
  {
   "cell_type": "code",
   "execution_count": 8,
   "metadata": {},
   "outputs": [
    {
     "data": {
      "text/plain": [
       "True"
      ]
     },
     "execution_count": 8,
     "metadata": {},
     "output_type": "execute_result"
    }
   ],
   "source": [
    "np.allclose(A@x, B)"
   ]
  }
 ],
 "metadata": {
  "kernelspec": {
   "display_name": "Python 3",
   "language": "python",
   "name": "python3"
  },
  "language_info": {
   "codemirror_mode": {
    "name": "ipython",
    "version": 3
   },
   "file_extension": ".py",
   "mimetype": "text/x-python",
   "name": "python",
   "nbconvert_exporter": "python",
   "pygments_lexer": "ipython3",
   "version": "3.8.8"
  }
 },
 "nbformat": 4,
 "nbformat_minor": 1
}
