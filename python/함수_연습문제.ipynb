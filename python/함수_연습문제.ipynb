{
 "cells": [
  {
   "cell_type": "markdown",
   "source": [
    "\r\n",
    "### 함수 연습문제\r\n",
    " 1. 주어진 숫자 리스트의 평균을 구하는 함수를 출력하시오\r\n",
    " 1. 해당 숫자가 소수인지 아닌지 판별하시오.\r\n",
    " 2. 2부터 해당 숫자사이에 소수가 몇개인지 출력하는 함수를 구하시오 "
   ],
   "metadata": {}
  },
  {
   "cell_type": "code",
   "execution_count": 1,
   "source": [
    "## 주어진 숫자 리스트의 평균을 구하는 함수를 출력하시오\r\n",
    "\r\n",
    "# 입력: 숫자 리스트\r\n",
    "# 출력: 숫자 리스트의 평균값\r\n",
    "\r\n",
    "def mean(nums):\r\n",
    "    _sum = 0\r\n",
    "    for i in nums:\r\n",
    "        _sum += i\r\n",
    "        \r\n",
    "    return _sum / len(nums)"
   ],
   "outputs": [],
   "metadata": {}
  },
  {
   "cell_type": "code",
   "execution_count": 2,
   "source": [
    "print(mean([1,2,3]))"
   ],
   "outputs": [
    {
     "output_type": "stream",
     "name": "stdout",
     "text": [
      "2.0\n"
     ]
    }
   ],
   "metadata": {}
  },
  {
   "cell_type": "code",
   "execution_count": 3,
   "source": [
    "print(mean([1,2,3,3.9,8.7]))"
   ],
   "outputs": [
    {
     "output_type": "stream",
     "name": "stdout",
     "text": [
      "3.72\n"
     ]
    }
   ],
   "metadata": {}
  },
  {
   "cell_type": "code",
   "execution_count": 4,
   "source": [
    "## 주어진 숫자 리스트의 평균을 구하는 함수를 출력하시오\r\n",
    "## 내장함수 사용\r\n",
    "\r\n",
    "def mean2(nums):\r\n",
    "    return sum(nums) / len(nums)"
   ],
   "outputs": [],
   "metadata": {}
  },
  {
   "cell_type": "code",
   "execution_count": 5,
   "source": [
    "print(mean2([1,2,3,3.9,8.7]))"
   ],
   "outputs": [
    {
     "output_type": "stream",
     "name": "stdout",
     "text": [
      "3.72\n"
     ]
    }
   ],
   "metadata": {}
  },
  {
   "cell_type": "code",
   "execution_count": 6,
   "source": [
    "## 해당 숫자가 소수인지 아닌지 판별하시오.\r\n",
    "\r\n",
    "# 소수 판별 (1과 자기 자신으로만 나눠지는 수)\r\n",
    "\r\n",
    "# 입력: 양의 정수 1개\r\n",
    "# 출력: boolean (소수: True, 합성수: False)\r\n",
    "\r\n",
    "def is_prime(num):\r\n",
    "    for i in range(2, num):\r\n",
    "        if num % i == 0:\r\n",
    "            return False\r\n",
    "        \r\n",
    "    return True\r\n"
   ],
   "outputs": [],
   "metadata": {}
  },
  {
   "cell_type": "code",
   "execution_count": 7,
   "source": [
    "print(is_prime(100))\r\n",
    "print(is_prime(89))\r\n",
    "print(is_prime(25))\r\n",
    "print(is_prime(17))"
   ],
   "outputs": [
    {
     "output_type": "stream",
     "name": "stdout",
     "text": [
      "False\n",
      "True\n",
      "False\n",
      "True\n"
     ]
    }
   ],
   "metadata": {}
  },
  {
   "cell_type": "code",
   "execution_count": 8,
   "source": [
    "## 2부터 해당 숫자사이에 소수가 몇개인지 출력하는 함수를 구하시오\r\n",
    "\r\n",
    "# 입력: 양의 정수 1개\r\n",
    "# 출력: 2-해당 숫자 사이의 소수의 개수\r\n",
    "\r\n",
    "def num_prime(num):\r\n",
    "    count = 0\r\n",
    "    \r\n",
    "    for i in range(2, num+1):\r\n",
    "        if is_prime(i):\r\n",
    "            count += 1\r\n",
    "    \r\n",
    "    return count"
   ],
   "outputs": [],
   "metadata": {}
  },
  {
   "cell_type": "code",
   "execution_count": 10,
   "source": [
    "print(num_prime(7))\r\n",
    "print(num_prime(5))\r\n",
    "print(num_prime(100))"
   ],
   "outputs": [
    {
     "output_type": "stream",
     "name": "stdout",
     "text": [
      "4\n",
      "3\n",
      "25\n"
     ]
    }
   ],
   "metadata": {}
  }
 ],
 "metadata": {
  "kernelspec": {
   "display_name": "Python 3",
   "language": "python",
   "name": "python3"
  },
  "language_info": {
   "codemirror_mode": {
    "name": "ipython",
    "version": 3
   },
   "file_extension": ".py",
   "mimetype": "text/x-python",
   "name": "python",
   "nbconvert_exporter": "python",
   "pygments_lexer": "ipython3",
   "version": "3.8.8"
  }
 },
 "nbformat": 4,
 "nbformat_minor": 1
}