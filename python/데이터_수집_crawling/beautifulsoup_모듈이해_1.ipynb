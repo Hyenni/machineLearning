{
 "cells": [
  {
   "cell_type": "markdown",
   "metadata": {},
   "source": [
    "### 학습목표\n",
    "#### beautifulsoup 모듈 사용하기"
   ]
  },
  {
   "cell_type": "code",
   "execution_count": 1,
   "metadata": {},
   "outputs": [],
   "source": [
    "from bs4 import BeautifulSoup"
   ]
  },
  {
   "cell_type": "markdown",
   "metadata": {},
   "source": [
    "#### html 문자열 파싱\n",
    " - 문자열로 정의된 html 데이터 파싱하기\n",
    " \n",
    " 파싱: html 문서 내에서 우리가 원하는 특정 값을 추출하는 것"
   ]
  },
  {
   "cell_type": "code",
   "execution_count": 2,
   "metadata": {},
   "outputs": [],
   "source": [
    "html = '''\n",
    "<html>\n",
    "  <head>\n",
    "    <title>BeautifulSoup test</title>\n",
    "  </head>\n",
    "  <body>\n",
    "    <div id='upper' class='test' custom='good'>\n",
    "      <h3 title='Good Content Title'>Contents Title</h3>\n",
    "      <p>Test contents</p>\n",
    "    </div>\n",
    "    <div id='lower' class='test' custom='nice'>\n",
    "      <p>Test Test Test 1</p>\n",
    "      <p>Test Test Test 2</p>\n",
    "      <p>Test Test Test 3</p>\n",
    "    </div>\n",
    "  </body>\n",
    "</html>'''"
   ]
  },
  {
   "cell_type": "markdown",
   "metadata": {},
   "source": [
    "#### find 함수\n",
    " - 특정 html tag를 검색\n",
    " - 검색 조건을 명시하여 찾고자하는 tag를 검색"
   ]
  },
  {
   "cell_type": "code",
   "execution_count": 3,
   "metadata": {},
   "outputs": [],
   "source": [
    "soup = BeautifulSoup(html)"
   ]
  },
  {
   "cell_type": "code",
   "execution_count": 4,
   "metadata": {},
   "outputs": [
    {
     "data": {
      "text/plain": [
       "<h3 title=\"Good Content Title\">Contents Title</h3>"
      ]
     },
     "execution_count": 4,
     "metadata": {},
     "output_type": "execute_result"
    }
   ],
   "source": [
    "soup.find('h3')"
   ]
  },
  {
   "cell_type": "markdown",
   "metadata": {},
   "source": [
    "find 함수는 기본적으로 제일 먼저 찾은 것을 반환한다. "
   ]
  },
  {
   "cell_type": "code",
   "execution_count": 5,
   "metadata": {},
   "outputs": [
    {
     "data": {
      "text/plain": [
       "<p>Test contents</p>"
      ]
     },
     "execution_count": 5,
     "metadata": {},
     "output_type": "execute_result"
    }
   ],
   "source": [
    "soup.find('p')"
   ]
  },
  {
   "cell_type": "code",
   "execution_count": 6,
   "metadata": {},
   "outputs": [
    {
     "data": {
      "text/plain": [
       "<div class=\"test\" custom=\"good\" id=\"upper\">\n",
       "<h3 title=\"Good Content Title\">Contents Title</h3>\n",
       "<p>Test contents</p>\n",
       "</div>"
      ]
     },
     "execution_count": 6,
     "metadata": {},
     "output_type": "execute_result"
    }
   ],
   "source": [
    "soup.find('div')"
   ]
  },
  {
   "cell_type": "markdown",
   "metadata": {},
   "source": [
    "만약에 첫 번째로 위치한 것이 아니라 밑에 있는 것을 가져오고 싶을 때는 속성을 이용하면 된다. "
   ]
  },
  {
   "cell_type": "code",
   "execution_count": 7,
   "metadata": {},
   "outputs": [
    {
     "data": {
      "text/plain": [
       "<div class=\"test\" custom=\"nice\" id=\"lower\">\n",
       "<p>Test Test Test 1</p>\n",
       "<p>Test Test Test 2</p>\n",
       "<p>Test Test Test 3</p>\n",
       "</div>"
      ]
     },
     "execution_count": 7,
     "metadata": {},
     "output_type": "execute_result"
    }
   ],
   "source": [
    "soup.find('div', custom='nice')"
   ]
  },
  {
   "cell_type": "markdown",
   "metadata": {},
   "source": [
    "class명으로도 검색할 수 있는데 유의해야 할 점은 class라는 문자는 키워드이기 때문에 뒤에 _를 붙여야 함"
   ]
  },
  {
   "cell_type": "code",
   "execution_count": 10,
   "metadata": {},
   "outputs": [
    {
     "data": {
      "text/plain": [
       "<div class=\"test\" custom=\"good\" id=\"upper\">\n",
       "<h3 title=\"Good Content Title\">Contents Title</h3>\n",
       "<p>Test contents</p>\n",
       "</div>"
      ]
     },
     "execution_count": 10,
     "metadata": {},
     "output_type": "execute_result"
    }
   ],
   "source": [
    "soup.find('div', class_='test')"
   ]
  },
  {
   "cell_type": "markdown",
   "metadata": {},
   "source": [
    "속성을 여러개 같이 주고 찾고 싶을 때는 attrs 이용"
   ]
  },
  {
   "cell_type": "code",
   "execution_count": 11,
   "metadata": {},
   "outputs": [
    {
     "data": {
      "text/plain": [
       "<div class=\"test\" custom=\"good\" id=\"upper\">\n",
       "<h3 title=\"Good Content Title\">Contents Title</h3>\n",
       "<p>Test contents</p>\n",
       "</div>"
      ]
     },
     "execution_count": 11,
     "metadata": {},
     "output_type": "execute_result"
    }
   ],
   "source": [
    "attrs = {'id': 'upper', 'class': 'test'}\n",
    "soup.find('div', attrs=attrs)"
   ]
  },
  {
   "cell_type": "markdown",
   "metadata": {},
   "source": [
    "#### find_all 함수\n",
    " - find가 조건에 만족하는 하나의 tag만 검색한다면, find_all은 조건에 맞는 모든 tag를 리스트로 반환"
   ]
  },
  {
   "cell_type": "code",
   "execution_count": 8,
   "metadata": {},
   "outputs": [
    {
     "data": {
      "text/plain": [
       "[<p>Test contents</p>,\n",
       " <p>Test Test Test 1</p>,\n",
       " <p>Test Test Test 2</p>,\n",
       " <p>Test Test Test 3</p>]"
      ]
     },
     "execution_count": 8,
     "metadata": {},
     "output_type": "execute_result"
    }
   ],
   "source": [
    "soup.find_all('p')"
   ]
  },
  {
   "cell_type": "markdown",
   "metadata": {},
   "source": [
    "#### get_text 함수\n",
    " - tag안의 value를 추출\n",
    " - 부모tag의 경우, 모든 자식 tag의 value를 추출"
   ]
  },
  {
   "cell_type": "code",
   "execution_count": 12,
   "metadata": {},
   "outputs": [
    {
     "data": {
      "text/plain": [
       "<h3 title=\"Good Content Title\">Contents Title</h3>"
      ]
     },
     "execution_count": 12,
     "metadata": {},
     "output_type": "execute_result"
    }
   ],
   "source": [
    "soup.find('h3')"
   ]
  },
  {
   "cell_type": "code",
   "execution_count": 13,
   "metadata": {},
   "outputs": [
    {
     "data": {
      "text/plain": [
       "'Contents Title'"
      ]
     },
     "execution_count": 13,
     "metadata": {},
     "output_type": "execute_result"
    }
   ],
   "source": [
    "soup.find('h3').get_text()"
   ]
  },
  {
   "cell_type": "code",
   "execution_count": 14,
   "metadata": {},
   "outputs": [
    {
     "name": "stdout",
     "output_type": "stream",
     "text": [
      "<p>Test contents</p>\n"
     ]
    },
    {
     "data": {
      "text/plain": [
       "'Test contents'"
      ]
     },
     "execution_count": 14,
     "metadata": {},
     "output_type": "execute_result"
    }
   ],
   "source": [
    "tag = soup.find('p')\n",
    "print(tag)\n",
    "tag.get_text()"
   ]
  },
  {
   "cell_type": "markdown",
   "metadata": {},
   "source": [
    "기본적으로 태그를 찾게 되면 그 안에 value를 갖게되고, 태그들을 포함하고 있는 부모 태그에서 get_text()를 호출하게 되면 자식이 갖고 있는 모든 value를 모두 가져오게 됨."
   ]
  },
  {
   "cell_type": "code",
   "execution_count": 15,
   "metadata": {},
   "outputs": [
    {
     "name": "stdout",
     "output_type": "stream",
     "text": [
      "<div class=\"test\" custom=\"good\" id=\"upper\">\n",
      "<h3 title=\"Good Content Title\">Contents Title</h3>\n",
      "<p>Test contents</p>\n",
      "</div>\n"
     ]
    },
    {
     "data": {
      "text/plain": [
       "'\\nContents Title\\nTest contents\\n'"
      ]
     },
     "execution_count": 15,
     "metadata": {},
     "output_type": "execute_result"
    }
   ],
   "source": [
    "tag = soup.find('div', id='upper')\n",
    "print(tag)\n",
    "tag.get_text()"
   ]
  },
  {
   "cell_type": "markdown",
   "metadata": {},
   "source": [
    "#### attribute 값 추출하기\n",
    " - 경우에 따라 추출하고자 하는 값이 attribute에도 존재함\n",
    " - 이 경우에는 검색한 tag에 attribute 이름을 [ ]연산을 통해 추출가능\n",
    " - 예) div.find('h3')['title']"
   ]
  },
  {
   "cell_type": "code",
   "execution_count": 18,
   "metadata": {},
   "outputs": [
    {
     "name": "stdout",
     "output_type": "stream",
     "text": [
      "<h3 title=\"Good Content Title\">Contents Title</h3>\n"
     ]
    },
    {
     "data": {
      "text/plain": [
       "'Contents Title'"
      ]
     },
     "execution_count": 18,
     "metadata": {},
     "output_type": "execute_result"
    }
   ],
   "source": [
    "tag = soup.find('h3')\n",
    "print(tag)\n",
    "tag.get_text()"
   ]
  },
  {
   "cell_type": "markdown",
   "metadata": {},
   "source": [
    "우리는 h3 태그의 값이 아니라 title 속성에 있는 값을 가져오고 싶음."
   ]
  },
  {
   "cell_type": "code",
   "execution_count": 19,
   "metadata": {},
   "outputs": [
    {
     "data": {
      "text/plain": [
       "'Good Content Title'"
      ]
     },
     "execution_count": 19,
     "metadata": {},
     "output_type": "execute_result"
    }
   ],
   "source": [
    "tag['title']"
   ]
  }
 ],
 "metadata": {
  "kernelspec": {
   "display_name": "Python 3",
   "language": "python",
   "name": "python3"
  },
  "language_info": {
   "codemirror_mode": {
    "name": "ipython",
    "version": 3
   },
   "file_extension": ".py",
   "mimetype": "text/x-python",
   "name": "python",
   "nbconvert_exporter": "python",
   "pygments_lexer": "ipython3",
   "version": "3.8.8"
  }
 },
 "nbformat": 4,
 "nbformat_minor": 2
}
