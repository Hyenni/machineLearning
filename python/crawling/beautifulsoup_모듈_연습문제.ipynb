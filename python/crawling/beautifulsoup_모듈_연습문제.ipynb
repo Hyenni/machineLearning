{
 "cells": [
  {
   "cell_type": "markdown",
   "source": [
    "### beautifulsoup 연습문제\r\n",
    "#### 정규표현식으로 tag 찾기\r\n"
   ],
   "metadata": {}
  },
  {
   "cell_type": "code",
   "execution_count": 4,
   "source": [
    "import requests\r\n",
    "from bs4 import BeautifulSoup"
   ],
   "outputs": [],
   "metadata": {}
  },
  {
   "cell_type": "code",
   "execution_count": 5,
   "source": [
    "url = 'https://news.v.daum.net/v/20190728165812603'\r\n",
    "resp = requests.get(url)\r\n",
    "\r\n",
    "soup = BeautifulSoup(resp.text)"
   ],
   "outputs": [],
   "metadata": {}
  },
  {
   "cell_type": "code",
   "execution_count": 6,
   "source": [
    "import re"
   ],
   "outputs": [],
   "metadata": {}
  },
  {
   "cell_type": "code",
   "execution_count": 7,
   "source": [
    "soup.find_all(re.compile('h\\d'))"
   ],
   "outputs": [
    {
     "output_type": "execute_result",
     "data": {
      "text/plain": [
       "[<h1> <a class=\"link_daum\" href=\"https://www.daum.net\"> <img alt=\"Daum\" class=\"thumb_g\" height=\"19\" src=\"//t1.daumcdn.net/media/news/news2016/retina/logo_daum.jpg\" width=\"45\"/> </a> <a href=\"//news.daum.net\" id=\"kakaoServiceLogo\"><span class=\"ir_wa\">뉴스</span></a> </h1>,\n",
       " <h2 class=\"screen_out\">검색</h2>,\n",
       " <h2 class=\"screen_out\">뉴스 메인메뉴</h2>,\n",
       " <h2 class=\"screen_out\" id=\"kakaoBody\">IT</h2>,\n",
       " <h3 class=\"tit_view\" data-translation=\"true\">일론머스크 \"테슬라에서 넷플릭스·유튜브 즐길 날 온다\"</h3>,\n",
       " <h4 class=\"screen_out\">기사 도구 모음</h4>,\n",
       " <h3 class=\"tit_cp\">아시아경제 주요 뉴스</h3>,\n",
       " <h3 class=\"txt_newsview\">많이본 뉴스</h3>,\n",
       " <h3 class=\"txt_newsview\">포토&amp;TV</h3>,\n",
       " <h3 class=\"txt_newsview\">이 시각 추천뉴스</h3>,\n",
       " <h2 class=\"tit_direct\">바로가기</h2>,\n",
       " <h2 class=\"screen_out\">서비스 이용정보</h2>]"
      ]
     },
     "metadata": {},
     "execution_count": 7
    }
   ],
   "metadata": {}
  },
  {
   "cell_type": "markdown",
   "source": [
    "img 태그를 보면 웹사이트 안에 모든 이미지를 표현하는데, src 속성에 해당 링크가 있음.\n",
    "이미지에는 jpg, png, gif 등 종류가 다양한데 그 중에서 정규표현식을 이용해서 jpg만 가져올 수 있음"
   ],
   "metadata": {}
  },
  {
   "cell_type": "code",
   "execution_count": 8,
   "source": [
    "soup.find_all('img')"
   ],
   "outputs": [
    {
     "output_type": "execute_result",
     "data": {
      "text/plain": [
       "[<img alt=\"Daum\" class=\"thumb_g\" height=\"19\" src=\"//t1.daumcdn.net/media/news/news2016/retina/logo_daum.jpg\" width=\"45\"/>,\n",
       " <img alt=\"아시아경제\" class=\"thumb_g\" src=\"https://t1.daumcdn.net/media/news/news2016/cp/cp_akn.gif\"/>,\n",
       " <img alt=\"일론 머스크 테슬라 최고경영자(CEO) [이미지출처=로이터연합뉴스]\" class=\"thumb_g_article\" data-org-src=\"https://t1.daumcdn.net/news/201907/28/akn/20190728165813230vjsq.jpg\" data-org-width=\"550\" dmcf-mid=\"NBMY3ZZhN4\" dmcf-mtype=\"image\" height=\"auto\" src=\"https://img2.daumcdn.net/thumb/R658x0.q70/?fname=https://t1.daumcdn.net/news/201907/28/akn/20190728165813230vjsq.jpg\" width=\"658\"/>,\n",
       " <img alt=\"(출처=일론 머스크 트위터 계정 캡쳐)\" class=\"thumb_g_article\" data-org-src=\"https://t1.daumcdn.net/news/201907/28/akn/20190728165813670hwxf.png\" data-org-width=\"550\" dmcf-mid=\"NRhnb5SRpx\" dmcf-mtype=\"image\" height=\"auto\" src=\"https://img3.daumcdn.net/thumb/R658x0.q70/?fname=https://t1.daumcdn.net/news/201907/28/akn/20190728165813670hwxf.png\" width=\"658\"/>]"
      ]
     },
     "metadata": {},
     "execution_count": 8
    }
   ],
   "metadata": {}
  },
  {
   "cell_type": "markdown",
   "source": [
    "정확하게 이름이 .jpg여야하기 때문에 결과가 없음."
   ],
   "metadata": {}
  },
  {
   "cell_type": "code",
   "execution_count": 9,
   "source": [
    "soup.find_all('img', attrs={'src': '.jpg'})"
   ],
   "outputs": [
    {
     "output_type": "execute_result",
     "data": {
      "text/plain": [
       "[]"
      ]
     },
     "metadata": {},
     "execution_count": 9
    }
   ],
   "metadata": {}
  },
  {
   "cell_type": "markdown",
   "source": [
    "정규표현식 안에서 .은 모든 문자열을 뜻하기 때문에 정말 .을 표현하기 위해서는 앞에 \\를 붙여야 한다.\n",
    "그리고 앞에는 어떤 것이든 올 수 있음."
   ],
   "metadata": {}
  },
  {
   "cell_type": "code",
   "execution_count": 15,
   "source": [
    "soup.find_all('img', attrs={'src': re.compile('\\w+\\.jpg')})\n",
    "\n",
    "# soup.find_all('img', attrs={'src': re.compile('.+\\.jpg')}) 도 가능"
   ],
   "outputs": [
    {
     "output_type": "execute_result",
     "data": {
      "text/plain": [
       "[<img alt=\"Daum\" class=\"thumb_g\" height=\"19\" src=\"//t1.daumcdn.net/media/news/news2016/retina/logo_daum.jpg\" width=\"45\"/>,\n",
       " <img alt=\"일론 머스크 테슬라 최고경영자(CEO) [이미지출처=로이터연합뉴스]\" class=\"thumb_g_article\" data-org-src=\"https://t1.daumcdn.net/news/201907/28/akn/20190728165813230vjsq.jpg\" data-org-width=\"550\" dmcf-mid=\"NBMY3ZZhN4\" dmcf-mtype=\"image\" height=\"auto\" src=\"https://img2.daumcdn.net/thumb/R658x0.q70/?fname=https://t1.daumcdn.net/news/201907/28/akn/20190728165813230vjsq.jpg\" width=\"658\"/>]"
      ]
     },
     "metadata": {},
     "execution_count": 15
    }
   ],
   "metadata": {}
  },
  {
   "cell_type": "markdown",
   "source": [
    "h3 태그에서 class가 newsview로 끝나는 것만 추출"
   ],
   "metadata": {}
  },
  {
   "cell_type": "code",
   "execution_count": 16,
   "source": [
    "soup.find_all('h3')"
   ],
   "outputs": [
    {
     "output_type": "execute_result",
     "data": {
      "text/plain": [
       "[<h3 class=\"tit_view\" data-translation=\"true\">일론머스크 \"테슬라에서 넷플릭스·유튜브 즐길 날 온다\"</h3>,\n",
       " <h3 class=\"tit_cp\">아시아경제 주요 뉴스</h3>,\n",
       " <h3 class=\"txt_newsview\">많이본 뉴스</h3>,\n",
       " <h3 class=\"txt_newsview\">포토&amp;TV</h3>,\n",
       " <h3 class=\"txt_newsview\">이 시각 추천뉴스</h3>]"
      ]
     },
     "metadata": {},
     "execution_count": 16
    }
   ],
   "metadata": {}
  },
  {
   "cell_type": "code",
   "execution_count": 18,
   "source": [
    "soup.find_all('h3', class_= re.compile('.+newsview$'))"
   ],
   "outputs": [
    {
     "output_type": "execute_result",
     "data": {
      "text/plain": [
       "[<h3 class=\"txt_newsview\">많이본 뉴스</h3>,\n",
       " <h3 class=\"txt_newsview\">포토&amp;TV</h3>,\n",
       " <h3 class=\"txt_newsview\">이 시각 추천뉴스</h3>]"
      ]
     },
     "metadata": {},
     "execution_count": 18
    }
   ],
   "metadata": {}
  }
 ],
 "metadata": {
  "kernelspec": {
   "display_name": "Python 3",
   "language": "python",
   "name": "python3"
  },
  "language_info": {
   "codemirror_mode": {
    "name": "ipython",
    "version": 3
   },
   "file_extension": ".py",
   "mimetype": "text/x-python",
   "name": "python",
   "nbconvert_exporter": "python",
   "pygments_lexer": "ipython3",
   "version": "3.8.8"
  }
 },
 "nbformat": 4,
 "nbformat_minor": 2
}