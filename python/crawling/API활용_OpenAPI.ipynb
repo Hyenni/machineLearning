{
 "cells": [
  {
   "cell_type": "markdown",
   "source": [
    "### 학습목표\r\n",
    "#### OPEN API 사용하여 데이터 획득하기"
   ],
   "metadata": {}
  },
  {
   "cell_type": "markdown",
   "source": [
    "#### 공공데이터 포털 OPEN API 사용하기\n",
    "1. 공공데이터 포털 회원가입/로그인(https://www.data.go.kr/)\n",
    "2. API 사용 요청 / 키 발급\n",
    "3. API 문서(specification) 확인\n",
    "4. API 테스트 및 개발"
   ],
   "metadata": {}
  },
  {
   "cell_type": "markdown",
   "source": [
    "#### Endpoint 확인하기\n",
    " - API가 서비스되는 서버의 IP 혹은 domain 주소"
   ],
   "metadata": {}
  },
  {
   "cell_type": "code",
   "execution_count": 3,
   "source": [
    "endpoint = 'http://api.visitkorea.or.kr/openapi/service/rest/EngService/areaCode?serviceKey={}&numOfRows=10&pageSize=10&pageNo=1&MobileOS=ETC&MobileApp=AppTest'.format(serviceKey)\r\n",
    "print(endpoint)"
   ],
   "outputs": [
    {
     "output_type": "stream",
     "name": "stdout",
     "text": [
      "http://api.visitkorea.or.kr/openapi/service/rest/EngService/areaCode?serviceKey=408bK%2FDzbUIsHNtJmSMk8lBnmRhi94SkDsuA4Q2zDbJJoF7WZvpxmanNXlkMhndMzbnjLd1mNZ2%2BrpuQIrpTEA%3D%3D&numOfRows=10&pageSize=10&pageNo=1&MobileOS=ETC&MobileApp=AppTest\n"
     ]
    }
   ],
   "metadata": {}
  },
  {
   "cell_type": "markdown",
   "source": [
    "응답 표준은 XML인데, JSON 포맷으로 요청하고 싶을 때는 뒤에 &_type=json 을 추가하면 된다."
   ],
   "metadata": {}
  },
  {
   "cell_type": "code",
   "execution_count": 7,
   "source": [
    "endpoint = 'http://api.visitkorea.or.kr/openapi/service/rest/EngService/areaCode?serviceKey={}&numOfRows=10&pageSize=10&pageNo=1&MobileOS=ETC&MobileApp=AppTest&_type=json'.format(serviceKey)\r\n",
    "print(endpoint)"
   ],
   "outputs": [
    {
     "output_type": "stream",
     "name": "stdout",
     "text": [
      "http://api.visitkorea.or.kr/openapi/service/rest/EngService/areaCode?serviceKey=408bK%2FDzbUIsHNtJmSMk8lBnmRhi94SkDsuA4Q2zDbJJoF7WZvpxmanNXlkMhndMzbnjLd1mNZ2%2BrpuQIrpTEA%3D%3D&numOfRows=10&pageSize=10&pageNo=1&MobileOS=ETC&MobileApp=AppTest&_type=json\n"
     ]
    }
   ],
   "metadata": {}
  },
  {
   "cell_type": "markdown",
   "source": [
    "#### key 값 확인하기\n",
    " - 서비스 호출 트래킹할 목적이나 악의적인 사용을 금지할 목적으로 주로 사용\n",
    " - 새로 발급받은 키는 1시간 이후 사용 가능"
   ],
   "metadata": {}
  },
  {
   "cell_type": "code",
   "execution_count": 2,
   "source": [
    "serviceKey = '408bK%2FDzbUIsHNtJmSMk8lBnmRhi94SkDsuA4Q2zDbJJoF7WZvpxmanNXlkMhndMzbnjLd1mNZ2%2BrpuQIrpTEA%3D%3D'"
   ],
   "outputs": [],
   "metadata": {}
  },
  {
   "cell_type": "markdown",
   "source": [
    "#### Parameter 확인하기\n",
    " - API 호출에 필요한 parameter 값 확인 및 구성"
   ],
   "metadata": {}
  },
  {
   "cell_type": "markdown",
   "source": [
    "#### 요청 및 Response 확인\n",
    " - requests 모듈을 활용하여 API 호출\n",
    " - response 확인하여 원하는 정보 추출\n",
    " - json 데이터의 경우, python dictionary로 변경하여 사용가능"
   ],
   "metadata": {}
  },
  {
   "cell_type": "code",
   "execution_count": 8,
   "source": [
    "import requests \r\n",
    "\r\n",
    "endpoint = 'http://api.visitkorea.or.kr/openapi/service/rest/EngService/areaCode?serviceKey={}&numOfRows=10&pageSize=10&pageNo={}&MobileOS=ETC&MobileApp=AppTest&_type=json'.format(serviceKey,1)\r\n",
    "resp = requests.get(endpoint)\r\n",
    "\r\n",
    "print(resp.status_code)\r\n",
    "print(resp.text)"
   ],
   "outputs": [
    {
     "output_type": "stream",
     "name": "stdout",
     "text": [
      "200\n",
      "{\"response\":{\"header\":{\"resultCode\":\"0000\",\"resultMsg\":\"OK\"},\"body\":{\"items\":{\"item\":[{\"code\":1,\"name\":\"Seoul\",\"rnum\":1},{\"code\":2,\"name\":\"Incheon\",\"rnum\":2},{\"code\":3,\"name\":\"Daejeon\",\"rnum\":3},{\"code\":4,\"name\":\"Daegu\",\"rnum\":4},{\"code\":5,\"name\":\"Gwangju\",\"rnum\":5},{\"code\":6,\"name\":\"Busan\",\"rnum\":6},{\"code\":7,\"name\":\"Ulsan\",\"rnum\":7},{\"code\":8,\"name\":\"Sejong\",\"rnum\":8},{\"code\":31,\"name\":\"Gyeonggi-do\",\"rnum\":9},{\"code\":32,\"name\":\"Gangwon-do\",\"rnum\":10}]},\"numOfRows\":10,\"pageNo\":1,\"totalCount\":17}}}\n"
     ]
    }
   ],
   "metadata": {}
  },
  {
   "cell_type": "code",
   "execution_count": 9,
   "source": [
    "resp.json()"
   ],
   "outputs": [
    {
     "output_type": "execute_result",
     "data": {
      "text/plain": [
       "{'response': {'header': {'resultCode': '0000', 'resultMsg': 'OK'},\n",
       "  'body': {'items': {'item': [{'code': 1, 'name': 'Seoul', 'rnum': 1},\n",
       "     {'code': 2, 'name': 'Incheon', 'rnum': 2},\n",
       "     {'code': 3, 'name': 'Daejeon', 'rnum': 3},\n",
       "     {'code': 4, 'name': 'Daegu', 'rnum': 4},\n",
       "     {'code': 5, 'name': 'Gwangju', 'rnum': 5},\n",
       "     {'code': 6, 'name': 'Busan', 'rnum': 6},\n",
       "     {'code': 7, 'name': 'Ulsan', 'rnum': 7},\n",
       "     {'code': 8, 'name': 'Sejong', 'rnum': 8},\n",
       "     {'code': 31, 'name': 'Gyeonggi-do', 'rnum': 9},\n",
       "     {'code': 32, 'name': 'Gangwon-do', 'rnum': 10}]},\n",
       "   'numOfRows': 10,\n",
       "   'pageNo': 1,\n",
       "   'totalCount': 17}}}"
      ]
     },
     "metadata": {},
     "execution_count": 9
    }
   ],
   "metadata": {}
  },
  {
   "cell_type": "code",
   "execution_count": 10,
   "source": [
    "type(resp.json())"
   ],
   "outputs": [
    {
     "output_type": "execute_result",
     "data": {
      "text/plain": [
       "dict"
      ]
     },
     "metadata": {},
     "execution_count": 10
    }
   ],
   "metadata": {}
  },
  {
   "cell_type": "code",
   "execution_count": 11,
   "source": [
    "data = resp.json()\r\n",
    "\r\n",
    "print(data['response']['body']['items'])"
   ],
   "outputs": [
    {
     "output_type": "stream",
     "name": "stdout",
     "text": [
      "{'item': [{'code': 1, 'name': 'Seoul', 'rnum': 1}, {'code': 2, 'name': 'Incheon', 'rnum': 2}, {'code': 3, 'name': 'Daejeon', 'rnum': 3}, {'code': 4, 'name': 'Daegu', 'rnum': 4}, {'code': 5, 'name': 'Gwangju', 'rnum': 5}, {'code': 6, 'name': 'Busan', 'rnum': 6}, {'code': 7, 'name': 'Ulsan', 'rnum': 7}, {'code': 8, 'name': 'Sejong', 'rnum': 8}, {'code': 31, 'name': 'Gyeonggi-do', 'rnum': 9}, {'code': 32, 'name': 'Gangwon-do', 'rnum': 10}]}\n"
     ]
    }
   ],
   "metadata": {}
  },
  {
   "cell_type": "code",
   "execution_count": 12,
   "source": [
    "print(data['response']['body']['items']['item'][0])"
   ],
   "outputs": [
    {
     "output_type": "stream",
     "name": "stdout",
     "text": [
      "{'code': 1, 'name': 'Seoul', 'rnum': 1}\n"
     ]
    }
   ],
   "metadata": {}
  }
 ],
 "metadata": {
  "kernelspec": {
   "display_name": "Python 3",
   "language": "python",
   "name": "python3"
  },
  "language_info": {
   "codemirror_mode": {
    "name": "ipython",
    "version": 3
   },
   "file_extension": ".py",
   "mimetype": "text/x-python",
   "name": "python",
   "nbconvert_exporter": "python",
   "pygments_lexer": "ipython3",
   "version": "3.8.8"
  }
 },
 "nbformat": 4,
 "nbformat_minor": 2
}