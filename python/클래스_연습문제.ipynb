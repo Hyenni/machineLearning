{
 "cells": [
  {
   "cell_type": "markdown",
   "source": [
    "### 클래스 연습문제\r\n",
    " - 복소수 클래스를 정의 해봅시다.\r\n",
    " - 덧셈, 뺄셈, 곱셈 연산자 지원\r\n",
    " - 길이 (복소수의 크기) 지원 \r\n",
    " - 복소수 출력 '1 + 4j'와 같이 표현\r\n",
    " - 비교 연산 ==, != 지원\r\n",
    " - >=, <= , <, > 연산 지원\r\n",
    " - 절대값 지원\r\n"
   ],
   "metadata": {}
  },
  {
   "cell_type": "code",
   "execution_count": 52,
   "source": [
    "## 복소수 클래스를 정의 해봅시다.\r\n",
    "\r\n",
    "class ComplexNumber:\r\n",
    "    def __init__(self, real, img):\r\n",
    "        self.real = real\r\n",
    "        self.img = img\r\n",
    "        \r\n",
    "    ## 덧셈, 뺄셈, 곱셈 연산자 지원\r\n",
    "    def __add__(self, cn):\r\n",
    "        return ComplexNumber(self.real + cn.real, self.img + cn.img)\r\n",
    "        \r\n",
    "    def __sub__(self, cn):\r\n",
    "        return ComplexNumber(self.real - cn.real, self.img - cn.img)\r\n",
    "    \r\n",
    "    def __mul__(self,x):\r\n",
    "        if type(x) == int:\r\n",
    "            return ComplexNumber(self.real * x, self.img * x)\r\n",
    "        elif type(x) == ComplexNumber:\r\n",
    "            # (a + bj) * (c + dj) = (ac - bd) + (ad + bc)j\r\n",
    "            return ComplexNumber(self.real * x.real - self.img * x.img, self.real * x.img + self.img * x.real)\r\n",
    "    \r\n",
    "    def __eq__(self, cn):\r\n",
    "        return self.real == cn.real and self.img == cn.img\r\n",
    "\r\n",
    "    def __ne__(self, cn):\r\n",
    "        return not (self.real == cn.real and self.img == cn.img)\r\n",
    "    \r\n",
    "    def __len__(self):\r\n",
    "        return self.real ** 2 + self.img ** 2\r\n",
    "    \r\n",
    "    \r\n",
    "    def __str__(self):\r\n",
    "        if self.img > 0:\r\n",
    "            return '{} + {}j'.format(self.real, self.img)\r\n",
    "        else:\r\n",
    "            return '{} - {}j'.format(self.real, abs(self.img))\r\n",
    "            "
   ],
   "outputs": [],
   "metadata": {}
  },
  {
   "cell_type": "code",
   "execution_count": 45,
   "source": [
    "a = ComplexNumber(1,2)\r\n",
    "print(a)"
   ],
   "outputs": [
    {
     "output_type": "stream",
     "name": "stdout",
     "text": [
      "1 + 2j\n"
     ]
    }
   ],
   "metadata": {}
  },
  {
   "cell_type": "code",
   "execution_count": 46,
   "source": [
    "b = ComplexNumber(3,5)\r\n",
    "print(b)"
   ],
   "outputs": [
    {
     "output_type": "stream",
     "name": "stdout",
     "text": [
      "3 + 5j\n"
     ]
    }
   ],
   "metadata": {}
  },
  {
   "cell_type": "code",
   "execution_count": 29,
   "source": [
    "print(a+b)"
   ],
   "outputs": [
    {
     "output_type": "stream",
     "name": "stdout",
     "text": [
      "4 + 7j\n"
     ]
    }
   ],
   "metadata": {}
  },
  {
   "cell_type": "code",
   "execution_count": 35,
   "source": [
    "print(a-b)"
   ],
   "outputs": [
    {
     "output_type": "stream",
     "name": "stdout",
     "text": [
      "-2 - 3j\n"
     ]
    }
   ],
   "metadata": {}
  },
  {
   "cell_type": "code",
   "execution_count": 40,
   "source": [
    "print(a * 3)"
   ],
   "outputs": [
    {
     "output_type": "stream",
     "name": "stdout",
     "text": [
      "3 + 6j\n"
     ]
    }
   ],
   "metadata": {}
  },
  {
   "cell_type": "code",
   "execution_count": 43,
   "source": [
    "print(a * b)"
   ],
   "outputs": [
    {
     "output_type": "stream",
     "name": "stdout",
     "text": [
      "-7 + 11j\n"
     ]
    }
   ],
   "metadata": {}
  },
  {
   "cell_type": "code",
   "execution_count": 48,
   "source": [
    "a = ComplexNumber(1,2)\r\n",
    "b = ComplexNumber(1,2)\r\n",
    "print(a==b)"
   ],
   "outputs": [
    {
     "output_type": "stream",
     "name": "stdout",
     "text": [
      "True\n"
     ]
    }
   ],
   "metadata": {}
  },
  {
   "cell_type": "code",
   "execution_count": 51,
   "source": [
    "a = ComplexNumber(1,2)\r\n",
    "b = ComplexNumber(3,2)\r\n",
    "print(a==b)\r\n",
    "print(a!=b)"
   ],
   "outputs": [
    {
     "output_type": "stream",
     "name": "stdout",
     "text": [
      "False\n",
      "True\n"
     ]
    }
   ],
   "metadata": {}
  },
  {
   "cell_type": "code",
   "execution_count": 53,
   "source": [
    "a = ComplexNumber(1,2)\r\n",
    "print(len(a))"
   ],
   "outputs": [
    {
     "output_type": "stream",
     "name": "stdout",
     "text": [
      "5\n"
     ]
    }
   ],
   "metadata": {}
  }
 ],
 "metadata": {
  "kernelspec": {
   "display_name": "Python 3",
   "language": "python",
   "name": "python3"
  },
  "language_info": {
   "codemirror_mode": {
    "name": "ipython",
    "version": 3
   },
   "file_extension": ".py",
   "mimetype": "text/x-python",
   "name": "python",
   "nbconvert_exporter": "python",
   "pygments_lexer": "ipython3",
   "version": "3.8.8"
  }
 },
 "nbformat": 4,
 "nbformat_minor": 1
}