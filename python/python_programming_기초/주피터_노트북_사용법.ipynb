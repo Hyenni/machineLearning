{
 "cells": [
  {
   "cell_type": "markdown",
   "source": [
    "### Keyboard shortcut 확인: H\n",
    "\n",
    "- 위에 셀 추가: a\n",
    "- 아래에 셀 추가: b\n",
    "- code -> markdown: m\n",
    "- markdown -> code: y\n"
   ],
   "metadata": {}
  },
  {
   "cell_type": "markdown",
   "source": [
    "### 수식 작성하고 싶을 때: $ 사용\n",
    "\n",
    "$y= 3x$"
   ],
   "metadata": {}
  },
  {
   "cell_type": "markdown",
   "source": [
    "### markdown에서 python code 포맷 인식\r\n",
    "\r\n",
    "```python\r\n",
    "print('Hello world')\r\n",
    "```"
   ],
   "metadata": {}
  },
  {
   "cell_type": "code",
   "execution_count": null,
   "source": [
    "```python\r\n",
    "print('Hello world')\r\n",
    "```"
   ],
   "outputs": [],
   "metadata": {}
  },
  {
   "cell_type": "markdown",
   "source": [
    "### 링크 이름 생성\r\n",
    "\r\n",
    "[파이썬 공식 페이지](https://www.python.org/)"
   ],
   "metadata": {}
  },
  {
   "cell_type": "code",
   "execution_count": null,
   "source": [
    "[파이썬 공식 페이지](https://www.python.org/)"
   ],
   "outputs": [],
   "metadata": {}
  },
  {
   "cell_type": "markdown",
   "source": [
    "### 함수 사용방법 확인: Shift + Tab\n",
    "\n",
    "print() 함수가 궁금하면 print() 를 치고 Shift + Tab 키를 누르면 파라미터 등 함수 사용방법에 대해 확인할 수 있음\n"
   ],
   "metadata": {}
  }
 ],
 "metadata": {
  "kernelspec": {
   "display_name": "Python 3",
   "language": "python",
   "name": "python3"
  },
  "language_info": {
   "codemirror_mode": {
    "name": "ipython",
    "version": 3
   },
   "file_extension": ".py",
   "mimetype": "text/x-python",
   "name": "python",
   "nbconvert_exporter": "python",
   "pygments_lexer": "ipython3",
   "version": "3.8.8"
  }
 },
 "nbformat": 4,
 "nbformat_minor": 5
}