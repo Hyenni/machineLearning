{
 "cells": [
  {
   "cell_type": "markdown",
   "source": [
    "\r\n",
    "\r\n",
    "### 학습목표\r\n",
    "#### Lambda 함수 이해 및 사용\r\n"
   ],
   "metadata": {}
  },
  {
   "cell_type": "markdown",
   "source": [
    "* **Lambda 함수**\n",
    " + 단일문으로 표현되는 익명함수\n",
    " + 익명함수란 이름이 없는 구현체만 존재하는 간단한 함수를 의미\n",
    " + 코드 상에서 한번만 사용되는 기능이 있을 때, 굳이 함수로 만들지 않고 1회성으로 만들어서 쓸 때 사용.\n",
    " + 세미콜론(:) 앞에는 입력 값, 뒤에는 출력 값 (return 쓰면 안됨)"
   ],
   "metadata": {}
  },
  {
   "cell_type": "code",
   "execution_count": 3,
   "source": [
    "# 함수로 정의했을 때\r\n",
    "\r\n",
    "def square2(x):\r\n",
    "    return x**2\r\n",
    "\r\n",
    "square(5)"
   ],
   "outputs": [
    {
     "output_type": "execute_result",
     "data": {
      "text/plain": [
       "25"
      ]
     },
     "metadata": {},
     "execution_count": 3
    }
   ],
   "metadata": {}
  },
  {
   "cell_type": "code",
   "execution_count": 5,
   "source": [
    "# lambda 사용했을 때 \r\n",
    "\r\n",
    "square = lambda x:x**2\r\n",
    "type(square)"
   ],
   "outputs": [
    {
     "output_type": "execute_result",
     "data": {
      "text/plain": [
       "function"
      ]
     },
     "metadata": {},
     "execution_count": 5
    }
   ],
   "metadata": {}
  },
  {
   "cell_type": "code",
   "execution_count": 6,
   "source": [
    "square(5)"
   ],
   "outputs": [
    {
     "output_type": "execute_result",
     "data": {
      "text/plain": [
       "25"
      ]
     },
     "metadata": {},
     "execution_count": 6
    }
   ],
   "metadata": {}
  },
  {
   "cell_type": "code",
   "execution_count": 7,
   "source": [
    "# 함수로 정의했을 때\r\n",
    "\r\n",
    "def add(x, y):\r\n",
    "    return x + y\r\n",
    "\r\n",
    "add(2, 3)"
   ],
   "outputs": [
    {
     "output_type": "execute_result",
     "data": {
      "text/plain": [
       "5"
      ]
     },
     "metadata": {},
     "execution_count": 7
    }
   ],
   "metadata": {}
  },
  {
   "cell_type": "code",
   "execution_count": 9,
   "source": [
    "# lambda 사용했을 때\r\n",
    "\r\n",
    "add2 = lambda x, y:x+y\r\n",
    "\r\n",
    "add2(2,3)"
   ],
   "outputs": [
    {
     "output_type": "execute_result",
     "data": {
      "text/plain": [
       "5"
      ]
     },
     "metadata": {},
     "execution_count": 9
    }
   ],
   "metadata": {}
  },
  {
   "cell_type": "markdown",
   "source": [
    "일반적으로 sort 함수는 알파벳 순서대로 정렬됨.\n",
    "\n",
    "sort 함수 안에는 key 라는 파라미터가 있는 데 여기에 사용자가 기준을 넣을 수 있음."
   ],
   "metadata": {}
  },
  {
   "cell_type": "code",
   "execution_count": 16,
   "source": [
    "strings = ['bob', 'charles', 'alexander3', 'teddy']\r\n",
    "strings.sort()\r\n",
    "\r\n",
    "print(strings)"
   ],
   "outputs": [
    {
     "output_type": "stream",
     "name": "stdout",
     "text": [
      "['alexander3', 'bob', 'charles', 'teddy']\n"
     ]
    }
   ],
   "metadata": {}
  },
  {
   "cell_type": "code",
   "execution_count": 17,
   "source": [
    "def str_len(s):\r\n",
    "    return len(s)\r\n",
    "    \r\n",
    "str_len('goods')"
   ],
   "outputs": [
    {
     "output_type": "execute_result",
     "data": {
      "text/plain": [
       "5"
      ]
     },
     "metadata": {},
     "execution_count": 17
    }
   ],
   "metadata": {}
  },
  {
   "cell_type": "code",
   "execution_count": 18,
   "source": [
    "strings = ['bob', 'charles', 'alexander3', 'teddy']\r\n",
    "strings.sort(key=str_len)\r\n",
    "\r\n",
    "print(strings)"
   ],
   "outputs": [
    {
     "output_type": "stream",
     "name": "stdout",
     "text": [
      "['bob', 'teddy', 'charles', 'alexander3']\n"
     ]
    }
   ],
   "metadata": {
    "scrolled": true
   }
  },
  {
   "cell_type": "markdown",
   "source": [
    "str_len 함수는 외부에서 사용하지 않고,\n",
    "함수를 파라미터로 받는 경우에는 따로 정의하지 않고 lamdba 기능을 이용해서 바로 정의해서 사용할 수 있음"
   ],
   "metadata": {}
  },
  {
   "cell_type": "code",
   "execution_count": 20,
   "source": [
    "strings = ['bob', 'charles', 'alexander3', 'teddy']\r\n",
    "strings.sort(key=lambda s:len(s))\r\n",
    "\r\n",
    "print(strings)"
   ],
   "outputs": [
    {
     "output_type": "stream",
     "name": "stdout",
     "text": [
      "['bob', 'teddy', 'charles', 'alexander3']\n"
     ]
    }
   ],
   "metadata": {}
  },
  {
   "cell_type": "markdown",
   "source": [
    "#### **filter, map, reduce**\n",
    " + lambda가 유용하게 사용되는 3가지 대표적 함수\n",
    " + 함수형 프로그래밍의 기본 요소이기도 함\n",
    " + filter : 특정 조건을 만족하는 요소만 남기고 필터링\n",
    " + map    : 각 원소를 주어진 수식에 따라 변형하여 새로운 리스트를 반환\n",
    " + reduce : 차례대로 앞 2개의 원소를 가지고 연산. 연산의 결과가 또 다음 연산의 입력으로 진행됨. 따라서 마지막까지 진행되면 최종 출력은 한개의 값만 남게 됨"
   ],
   "metadata": {}
  },
  {
   "cell_type": "code",
   "execution_count": 23,
   "source": [
    "# filter(함수, 리스트)\r\n",
    "# filter 함수는 리스트에 있는 값들을 함수에 적용시켜서 true면 살아남고, false면 filter out 시킴\r\n",
    "\r\n",
    "nums = [1, 2, 3, 6, 8, 9]\r\n",
    "\r\n",
    "def even(n):\r\n",
    "    return n % 2 == 0\r\n",
    "\r\n",
    "print(even(2))\r\n",
    "print(even(3))\r\n"
   ],
   "outputs": [
    {
     "output_type": "stream",
     "name": "stdout",
     "text": [
      "True\n",
      "False\n"
     ]
    }
   ],
   "metadata": {}
  },
  {
   "cell_type": "code",
   "execution_count": 24,
   "source": [
    "list(filter(even, nums))"
   ],
   "outputs": [
    {
     "output_type": "execute_result",
     "data": {
      "text/plain": [
       "[2, 6, 8]"
      ]
     },
     "metadata": {},
     "execution_count": 24
    }
   ],
   "metadata": {}
  },
  {
   "cell_type": "code",
   "execution_count": 26,
   "source": [
    "list(filter(lambda n:n%2==0, nums))"
   ],
   "outputs": [
    {
     "output_type": "execute_result",
     "data": {
      "text/plain": [
       "[2, 6, 8]"
      ]
     },
     "metadata": {},
     "execution_count": 26
    }
   ],
   "metadata": {}
  },
  {
   "cell_type": "code",
   "execution_count": 27,
   "source": [
    "# map(함수, 리스트)\r\n",
    "# 주어진 리스트, 리스트의 제곱을 한 숫자로 새로운 리스트 생성\r\n",
    "\r\n",
    "nums = [1, 2, 3, 6, 8, 9, 10, 11, 13, 15]\r\n",
    "\r\n",
    "list(map(lambda n:n**2, nums))"
   ],
   "outputs": [
    {
     "output_type": "execute_result",
     "data": {
      "text/plain": [
       "[1, 4, 9, 36, 64, 81, 100, 121, 169, 225]"
      ]
     },
     "metadata": {},
     "execution_count": 27
    }
   ],
   "metadata": {}
  },
  {
   "cell_type": "code",
   "execution_count": 28,
   "source": [
    "list(map(even, nums))"
   ],
   "outputs": [
    {
     "output_type": "execute_result",
     "data": {
      "text/plain": [
       "[False, True, False, True, True, False, True, False, False, False]"
      ]
     },
     "metadata": {},
     "execution_count": 28
    }
   ],
   "metadata": {}
  },
  {
   "cell_type": "code",
   "execution_count": 29,
   "source": [
    "list(map(lambda n:n%2==0, nums))"
   ],
   "outputs": [
    {
     "output_type": "execute_result",
     "data": {
      "text/plain": [
       "[False, True, False, True, True, False, True, False, False, False]"
      ]
     },
     "metadata": {},
     "execution_count": 29
    }
   ],
   "metadata": {}
  },
  {
   "cell_type": "code",
   "execution_count": 31,
   "source": [
    "# reduce(함수, 리스트)\r\n",
    "# 리스트 내의 모든 숫자의 합\r\n",
    "\r\n",
    "import functools\r\n",
    "\r\n",
    "a = [1, 3, 5, 8]\r\n",
    "\r\n",
    "print(functools.reduce(lambda x,y:x+y, a))\r\n",
    "print(functools.reduce(lambda x,y:x*y, a))"
   ],
   "outputs": [
    {
     "output_type": "stream",
     "name": "stdout",
     "text": [
      "17\n",
      "120\n"
     ]
    }
   ],
   "metadata": {}
  }
 ],
 "metadata": {
  "kernelspec": {
   "display_name": "Python 3",
   "language": "python",
   "name": "python3"
  },
  "language_info": {
   "codemirror_mode": {
    "name": "ipython",
    "version": 3
   },
   "file_extension": ".py",
   "mimetype": "text/x-python",
   "name": "python",
   "nbconvert_exporter": "python",
   "pygments_lexer": "ipython3",
   "version": "3.8.8"
  }
 },
 "nbformat": 4,
 "nbformat_minor": 1
}