{
 "cells": [
  {
   "cell_type": "markdown",
   "source": [
    "### 정규표현식 연습문제 \r\n",
    "  - 아래 뉴스에서 이메일 주소를 추출해 보세요\r\n",
    "  - 다음중 올바른 (http, https) 웹페이지만 찾으시오"
   ],
   "metadata": {}
  },
  {
   "cell_type": "code",
   "execution_count": 1,
   "source": [
    "## 아래 뉴스에서 이메일 주소를 추출해 보세요\r\n",
    "\r\n",
    "import requests\r\n",
    "from bs4 import BeautifulSoup\r\n",
    "# 위의 두 모듈이 없는 경우에는 pip install requests bs4 실행\r\n",
    "\r\n",
    "def get_news_content(url):\r\n",
    "    response = requests.get(url)\r\n",
    "    content = response.text\r\n",
    "\r\n",
    "    soup = BeautifulSoup(content, 'html5lib')\r\n",
    "\r\n",
    "    div = soup.find('div', attrs = {'id' : 'harmonyContainer'})\r\n",
    "    \r\n",
    "    content = ''\r\n",
    "    for paragraph in div.find_all('p'):\r\n",
    "        content += paragraph.get_text()\r\n",
    "        \r\n",
    "    return content\r\n",
    "\r\n",
    "news1 = get_news_content('https://news.v.daum.net/v/20190617073049838')\r\n",
    "print(news1)\r\n"
   ],
   "outputs": [
    {
     "output_type": "stream",
     "name": "stdout",
     "text": [
      "(로스앤젤레스=연합뉴스) 옥철 특파원 = 팀 쿡 애플 최고경영자(CEO)가 16일(현지시간) 실리콘밸리 앞마당 격인 미국 서부 명문 스탠퍼드대학 학위수여식에서 테크기업들을 향해 쓴소리를 쏟아냈다.쿡은 이날 연설에서 실리콘밸리 테크기업들은 자신들이 만든 혼란에 대한 책임을 질 필요가 있다고 경고했다.근래 IT 업계의 가장 큰 이슈인 개인정보 침해, 사생활 보호 문제를 콕 집어 라이벌인 구글, 페이스북 등 IT 공룡을 겨냥한 발언이라는 해석이 나왔다.쿡은 \"최근 실리콘밸리 산업은 고귀한 혁신과는 점점 더 거리가 멀어지는 것으로 알려져 있다. 책임을 받아들이지 않고도 신뢰를 얻을 수 있다는 그런 믿음 말이다\"라고 꼬집었다.개인정보 유출 사건으로 미 의회 청문회에 줄줄이 불려 나간 경쟁사 CEO들을 향해 일침을 가한 것으로 보인다.그는 또 실리콘밸리에서 희대의 사기극을 연출한 바이오벤처 스타트업 테라노스(Theranos)를 직격했다.쿡은 \"피 한 방울로 거짓된 기적을 만들 수 있다고 믿었느냐\"면서 \"이런 식으로 혼돈의 공장을 만든다면 그 책임에서 절대 벗어날 수 없다\"라고 비난했다.테라노스는 손가락 끝을 찔러 극미량의 혈액 샘플만 있으면 각종 의학정보 분석은 물론 거의 모든 질병 진단이 가능한 바이오헬스 기술을 개발했다고 속여 월가 큰손들로부터 거액의 투자를 유치했다가 해당 기술이 사기인 것으로 드러나 청산한 기업이다.쿡은 애플의 경우 프라이버시(사생활) 보호에 초점을 맞춘 새로운 제품 기능들로 경쟁사들에 맞서고 있다며 자사의 데이터 보호 정책을 은근히 홍보하기도 했다.oakchul@yna.co.kr저작권자(c)연합뉴스. 무단전재-재배포금지\n"
     ]
    }
   ],
   "metadata": {}
  },
  {
   "cell_type": "markdown",
   "source": [
    "##### 강의 내용에서는 news1 내용이 이메일 주소로 끝남\n",
    "##### 근데 내가 실행하면 이메일 주소 뒤에 저작권자 내용까지 나와서 아래와 같이 실행결과가 나옴 "
   ],
   "metadata": {}
  },
  {
   "cell_type": "code",
   "execution_count": 2,
   "source": [
    "import re\r\n",
    "email_reg = re.compile(r'[\\w]+@[\\w.]+\\w+')"
   ],
   "outputs": [],
   "metadata": {}
  },
  {
   "cell_type": "code",
   "execution_count": 3,
   "source": [
    "email_reg.search(news1)"
   ],
   "outputs": [
    {
     "output_type": "execute_result",
     "data": {
      "text/plain": [
       "<re.Match object; span=(774, 795), match='oakchul@yna.co.kr저작권자'>"
      ]
     },
     "metadata": {},
     "execution_count": 3
    }
   ],
   "metadata": {}
  },
  {
   "cell_type": "code",
   "execution_count": 12,
   "source": [
    "## 다음중 올바른 (http, https) 웹페이지만 찾으시오\r\n",
    "\r\n",
    "webs = ['http://www.test.co.kr', \r\n",
    "        'https://www.test1.com', \r\n",
    "        'http://www.test.com', \r\n",
    "        'ftp://www.test.com', \r\n",
    "        'http:://www.test.com',\r\n",
    "       'htp://www.test.com',\r\n",
    "       'http://www.google.com', \r\n",
    "       'https://www.homepage.com.']"
   ],
   "outputs": [],
   "metadata": {}
  },
  {
   "cell_type": "markdown",
   "source": [
    "위 리스트에서 '.' 으로 끝나는 이메일 주소가 있기 때문에 뒤에 문자로 끝나야 한다는 조건 추가"
   ],
   "metadata": {}
  },
  {
   "cell_type": "code",
   "execution_count": 14,
   "source": [
    "web_reg = re.compile(r'https?://[\\w.]+[\\w]+$')\r\n",
    "# web_reg = re.compile(r'https?://[\\w.]+\\w+$') 과 동일"
   ],
   "outputs": [],
   "metadata": {}
  },
  {
   "cell_type": "code",
   "execution_count": 18,
   "source": [
    "web_reg.search('http://www.test.co.kr')"
   ],
   "outputs": [
    {
     "output_type": "execute_result",
     "data": {
      "text/plain": [
       "<re.Match object; span=(0, 21), match='http://www.test.co.kr'>"
      ]
     },
     "metadata": {},
     "execution_count": 18
    }
   ],
   "metadata": {}
  },
  {
   "cell_type": "code",
   "execution_count": 20,
   "source": [
    "print(web_reg.search('htp://www.test.com'))"
   ],
   "outputs": [
    {
     "output_type": "stream",
     "name": "stdout",
     "text": [
      "None\n"
     ]
    }
   ],
   "metadata": {}
  },
  {
   "cell_type": "code",
   "execution_count": 23,
   "source": [
    "## version 1)\r\n",
    "\r\n",
    "web_check = []\r\n",
    "\r\n",
    "for i in webs:\r\n",
    "    if web_reg.search(i) != None:\r\n",
    "        web_check.append('True')\r\n",
    "    else:\r\n",
    "        web_check.append('False')\r\n",
    "        \r\n",
    "web_check"
   ],
   "outputs": [
    {
     "output_type": "execute_result",
     "data": {
      "text/plain": [
       "['True', 'True', 'True', 'False', 'False', 'False', 'True', 'False']"
      ]
     },
     "metadata": {},
     "execution_count": 23
    }
   ],
   "metadata": {}
  },
  {
   "cell_type": "code",
   "execution_count": 24,
   "source": [
    "## version 2)\r\n",
    "\r\n",
    "list(map(lambda w:web_reg.search(w) != None, webs))"
   ],
   "outputs": [
    {
     "output_type": "execute_result",
     "data": {
      "text/plain": [
       "[True, True, True, False, False, False, True, False]"
      ]
     },
     "metadata": {},
     "execution_count": 24
    }
   ],
   "metadata": {}
  }
 ],
 "metadata": {
  "kernelspec": {
   "display_name": "Python 3",
   "language": "python",
   "name": "python3"
  },
  "language_info": {
   "codemirror_mode": {
    "name": "ipython",
    "version": 3
   },
   "file_extension": ".py",
   "mimetype": "text/x-python",
   "name": "python",
   "nbconvert_exporter": "python",
   "pygments_lexer": "ipython3",
   "version": "3.8.8"
  }
 },
 "nbformat": 4,
 "nbformat_minor": 1
}