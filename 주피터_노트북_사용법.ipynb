{
 "cells": [
  {
   "cell_type": "markdown",
   "id": "f3dca13a",
   "metadata": {},
   "source": [
    "### Keyboard shortcut 확인: H\n",
    "\n",
    "- 위에 셀 추가: a\n",
    "- 아래에 셀 추가: b\n",
    "- code -> markdown: m\n",
    "- markdown -> code: y\n"
   ]
  },
  {
   "cell_type": "markdown",
   "id": "c719c54a",
   "metadata": {},
   "source": [
    "### 수식 작성하고 싶을 때: $ 사용\n",
    "\n",
    "$y= 3x$"
   ]
  },
  {
   "cell_type": "markdown",
   "id": "60e88719",
   "metadata": {},
   "source": [
    "### markdown에서 python code 포맷 인식\n",
    "\n",
    "```python\n",
    "print('Hello world')\n",
    "```"
   ]
  },
  {
   "cell_type": "markdown",
   "id": "5e7ef339",
   "metadata": {},
   "source": [
    "### 링크 이름 생성\n",
    "\n",
    "[파이썬 공식 페이지](https://www.python.org/)"
   ]
  },
  {
   "cell_type": "markdown",
   "id": "85594bd6",
   "metadata": {},
   "source": [
    "### 함수 사용방법 확인: Shift + Tab\n",
    "\n",
    "print() 함수가 궁금하면 print() 를 치고 Shift + Tab 키를 누르면 파라미터 등 함수 사용방법에 대해 확인할 수 있음\n"
   ]
  }
 ],
 "metadata": {
  "kernelspec": {
   "display_name": "Python 3",
   "language": "python",
   "name": "python3"
  },
  "language_info": {
   "codemirror_mode": {
    "name": "ipython",
    "version": 3
   },
   "file_extension": ".py",
   "mimetype": "text/x-python",
   "name": "python",
   "nbconvert_exporter": "python",
   "pygments_lexer": "ipython3",
   "version": "3.8.8"
  }
 },
 "nbformat": 4,
 "nbformat_minor": 5
}
