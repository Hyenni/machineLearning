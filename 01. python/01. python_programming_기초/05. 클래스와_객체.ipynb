{
 "cells": [
  {
   "cell_type": "markdown",
   "source": [
    "### 학습목표\r\n",
    "#### 클래스와 오브젝트에 대한 이해\r\n"
   ],
   "metadata": {}
  },
  {
   "cell_type": "markdown",
   "source": [
    "#### **class란?**\n",
    " + 실세계의 것을 모델링하여 속성(attribute)와 동작(method)를 갖는 데이터 타입\n",
    " + python에서의 string, int, list, dict.. 모두가 다 클래스로 존재\n",
    " + 예를들어 학생이라는 클래스를 만든다면, 학생을 나타내는 속성과 학생이 행하는 행동을 함께 정의 할 수 있음\n",
    " + 따라서, 다루고자 하는 데이터(변수) 와 데이터를 다루는 연산(함수)를 하나로 캡슐화(encapsulation)하여 클래스로 표현\n",
    " + 모델링에서 중요시 하는 속성에 따라 클래스의 속성과 행동이 각각 달라짐"
   ],
   "metadata": {}
  },
  {
   "cell_type": "markdown",
   "source": [
    "#### **object 란?**\n",
    " - 클래스로 생성되어 구체화된 객체(인스턴스)\n",
    " - 파이썬의 모든 것(int, str, list..etc)은 객체(인스턴스)\n",
    " - 실제로 class가 인스턴스화 되어 메모리에 상주하는 상태를 의미\n",
    " - class가 빵틀이라면, object는 실제로 빵틀로 찍어낸 빵이라고 비유 가능\n"
   ],
   "metadata": {}
  },
  {
   "cell_type": "markdown",
   "source": [
    "#### **class 선언하기**\n",
    "  - 객체를 생성하기 위해선 객체의 모체가 되는 class를 미리 선언해야 함 "
   ],
   "metadata": {}
  },
  {
   "cell_type": "code",
   "execution_count": 1,
   "source": [
    "class Person:\r\n",
    "    pass  # pass: 먼저 정의 하고 구현은 나중에 하고 싶을 때 "
   ],
   "outputs": [],
   "metadata": {}
  },
  {
   "cell_type": "code",
   "execution_count": 2,
   "source": [
    "bob = Person()     # a = list()와 동일한 의미라고 생각하면 됨\r\n",
    "cathy = Person() "
   ],
   "outputs": [],
   "metadata": {}
  },
  {
   "cell_type": "code",
   "execution_count": 3,
   "source": [
    "type(bob)"
   ],
   "outputs": [
    {
     "output_type": "execute_result",
     "data": {
      "text/plain": [
       "__main__.Person"
      ]
     },
     "metadata": {},
     "execution_count": 3
    }
   ],
   "metadata": {}
  },
  {
   "cell_type": "markdown",
   "source": [
    "#### __init__(self)\n",
    " + 생성자, 클래스 인스턴스가 생성될 때 호출됨\n",
    " + self인자는 항상 첫번째에 오며 자기 자신을 가리킴\n",
    " + 이름이 꼭 self일 필요는 없지만, 관례적으로 self로 사용\n",
    " \n",
    " + 생성자에서는 해당 클래스가 다루는 데이터를 정의\n",
    "   - 이 데이터를 멤버 변수(member variable) 또는 속성(attribute)라고 함"
   ],
   "metadata": {}
  },
  {
   "cell_type": "code",
   "execution_count": 4,
   "source": [
    "class Person:\r\n",
    "    def __init__(self):\r\n",
    "        print(self, 'is generated')\r\n",
    "        \r\n",
    "p1 = Person()\r\n",
    "p2 = Person()        "
   ],
   "outputs": [
    {
     "output_type": "stream",
     "name": "stdout",
     "text": [
      "<__main__.Person object at 0x00000210BB51CB50> is generated\n",
      "<__main__.Person object at 0x00000210BB51CBB0> is generated\n"
     ]
    }
   ],
   "metadata": {}
  },
  {
   "cell_type": "code",
   "execution_count": 6,
   "source": [
    "class Person:\r\n",
    "    def __init__(self):\r\n",
    "        print(self, 'is generated')\r\n",
    "        self.name = 'Kate'\r\n",
    "        self.age = 10\r\n",
    "        \r\n",
    "p1 = Person()\r\n",
    "p1.name, p1.age"
   ],
   "outputs": [
    {
     "output_type": "stream",
     "name": "stdout",
     "text": [
      "<__main__.Person object at 0x00000210BB51C5E0> is generated\n"
     ]
    },
    {
     "output_type": "execute_result",
     "data": {
      "text/plain": [
       "('Kate', 10)"
      ]
     },
     "metadata": {},
     "execution_count": 6
    }
   ],
   "metadata": {}
  },
  {
   "cell_type": "code",
   "execution_count": 10,
   "source": [
    "class Person:\r\n",
    "    def __init__(self, name, age=10):\r\n",
    "        print(self, 'is generated')\r\n",
    "        self.name = name\r\n",
    "        self.age = age\r\n",
    "        \r\n",
    "p1 = Person('Bob', 30)\r\n",
    "print(p1.name, p1.age)\r\n",
    "\r\n",
    "p2 = Person('Kate')\r\n",
    "print(p2.name, p2.age)"
   ],
   "outputs": [
    {
     "output_type": "stream",
     "name": "stdout",
     "text": [
      "<__main__.Person object at 0x00000210BB5FB0D0> is generated\n",
      "Bob 30\n",
      "<__main__.Person object at 0x00000210BB5FB5B0> is generated\n",
      "Kate 10\n"
     ]
    }
   ],
   "metadata": {}
  },
  {
   "cell_type": "markdown",
   "source": [
    "#### **mehtod 정의**\n",
    " + 멤버함수라고도 하며, 해당 클래스의 object에서만 호출가능\n",
    " + 메쏘드는 객체 레벨에서 호출되며, 해당 객체의 속성에 대한 연산을 행함\n",
    " + {obj}.{method}() 형태로 호출됨"
   ],
   "metadata": {}
  },
  {
   "cell_type": "code",
   "execution_count": 12,
   "source": [
    "class Counter:\r\n",
    "    def __init__(self):\r\n",
    "        self.num = 0\r\n",
    "        \r\n",
    "    def print_current_value(self):\r\n",
    "        print('현재값은: ', self.num)\r\n",
    "        \r\n",
    "\r\n",
    "c1 = Counter()\r\n",
    "c1.print_current_value()\r\n",
    "\r\n",
    "c2 = Counter()\r\n",
    "c2.print_current_value()"
   ],
   "outputs": [
    {
     "output_type": "stream",
     "name": "stdout",
     "text": [
      "현재값은:  0\n",
      "현재값은:  0\n"
     ]
    }
   ],
   "metadata": {}
  },
  {
   "cell_type": "code",
   "execution_count": 13,
   "source": [
    "# 1. 숫자를 하나 증가\r\n",
    "# 2. 숫자를 0으로 초기화\r\n",
    "\r\n",
    "class Counter:\r\n",
    "    def __init__(self):\r\n",
    "        self.num = 0\r\n",
    "        \r\n",
    "    def increment(self):\r\n",
    "        self.num += 1\r\n",
    "        \r\n",
    "    def reset(self):\r\n",
    "        self.num = 0\r\n",
    "        \r\n",
    "    def print_current_value(self):\r\n",
    "        print('현재값은: ', self.num)\r\n",
    "        \r\n",
    "\r\n",
    "c1 = Counter()\r\n",
    "c1.print_current_value()\r\n",
    "c1.increment()\r\n",
    "c1.increment()\r\n",
    "c1.print_current_value()\r\n",
    "c1.reset()\r\n",
    "c1.print_current_value()"
   ],
   "outputs": [
    {
     "output_type": "stream",
     "name": "stdout",
     "text": [
      "현재값은:  0\n",
      "현재값은:  2\n",
      "현재값은:  0\n"
     ]
    }
   ],
   "metadata": {}
  },
  {
   "cell_type": "markdown",
   "source": [
    " #### **Class Inheritance (상속)**\n",
    "  - 기존에 정의해둔 클래스의 기능을 그대로 물려받을 수 있다.\n",
    "  - 기존 클래스에 기능 일부를 추가하거나, 변경하여 새로운 클래스를 정의한다.\n",
    "  - 코드를 재사용할 수 있게된다.\n",
    "  - 상속 받고자 하는 대상인 기존 클래스는 (Parent, Super, Base class 라고 부른다.)\n",
    "  - 상속 받는 새로운 클래스는(Child, Sub, Derived class 라고 부른다.)\n",
    "  - 의미적으로 is-a관계를 갖는다"
   ],
   "metadata": {}
  },
  {
   "cell_type": "code",
   "execution_count": 20,
   "source": [
    "class Person:\r\n",
    "    def __init__(self, name, age):\r\n",
    "        self.name = name\r\n",
    "        self.age = age\r\n",
    "        \r\n",
    "    def eat(self, food):\r\n",
    "        print('{}은 {}를 먹습니다.'.format(self.name, food))\r\n",
    "        \r\n",
    "    def sleep(self, minute):\r\n",
    "        print('{}은 {}분동안 잡니다.'.format(self.name, minute))\r\n",
    "        \r\n",
    "    def work(self, minute):\r\n",
    "        print('{}은 {}분동안 일합니다.'.format(self.name, minute))\r\n",
    "        \r\n",
    "    \r\n",
    "    \r\n",
    "bob = Person('Bob', 25)\r\n",
    "bob.eat('BBQ')\r\n",
    "bob.sleep(30)\r\n",
    "bob.work(60)"
   ],
   "outputs": [
    {
     "output_type": "stream",
     "name": "stdout",
     "text": [
      "Bob은 BBQ를 먹습니다.\n",
      "Bob은 30분동안 잡니다.\n",
      "Bob은 60분동안 일합니다.\n"
     ]
    }
   ],
   "metadata": {}
  },
  {
   "cell_type": "code",
   "execution_count": 22,
   "source": [
    "class Student(Person):\r\n",
    "    def __init__(self, name, age):\r\n",
    "        self.name = name\r\n",
    "        self.age = age\r\n",
    "    \r\n",
    "class Employee(Person):\r\n",
    "    def __init__(self, name, age):\r\n",
    "        self.name = name\r\n",
    "        self.age = age\r\n",
    "    \r\n",
    "    \r\n",
    "bob = Student('Bob', 25)\r\n",
    "bob.eat('BBQ')\r\n",
    "bob.sleep(30)\r\n",
    "bob.work(60)"
   ],
   "outputs": [
    {
     "output_type": "stream",
     "name": "stdout",
     "text": [
      "Bob은 BBQ를 먹습니다.\n",
      "Bob은 30분동안 잡니다.\n",
      "Bob은 60분동안 일합니다.\n"
     ]
    }
   ],
   "metadata": {}
  },
  {
   "cell_type": "markdown",
   "source": [
    "#### **method override**\n",
    " - 부모 클래스의 method를 재정의(override)\n",
    " - 하위 클래스(자식 클래스) 의 인스턴스로 호출시, 재정의된 메소드가 호출됨"
   ],
   "metadata": {}
  },
  {
   "cell_type": "code",
   "execution_count": 24,
   "source": [
    "class Student(Person):\r\n",
    "    def __init__(self, name, age):\r\n",
    "        self.name = name\r\n",
    "        self.age = age\r\n",
    "        \r\n",
    "    def work(self, minute):\r\n",
    "        print('{}은 {}분동안 공부합니다.'.format(self.name, minute))\r\n",
    "        \r\n",
    "    \r\n",
    "class Employee(Person):\r\n",
    "    def __init__(self, name, age):\r\n",
    "        self.name = name\r\n",
    "        self.age = age\r\n",
    "\r\n",
    "    def work(self, minute):\r\n",
    "        print('{}은 {}분동안 업무를 합니다.'.format(self.name, minute))\r\n",
    "  \r\n",
    "\r\n",
    "    \r\n",
    "bob = Student('Bob', 25)\r\n",
    "bob.eat('BBQ')\r\n",
    "bob.sleep(30)\r\n",
    "bob.work(60)\r\n",
    "\r\n",
    "\r\n",
    "bob = Employee('Kate', 30)\r\n",
    "bob.eat('BBQ')\r\n",
    "bob.sleep(20)\r\n",
    "bob.work(40)"
   ],
   "outputs": [
    {
     "output_type": "stream",
     "name": "stdout",
     "text": [
      "Bob은 BBQ를 먹습니다.\n",
      "Bob은 30분동안 잡니다.\n",
      "Bob은 60분동안 공부합니다.\n",
      "Kate은 BBQ를 먹습니다.\n",
      "Kate은 20분동안 잡니다.\n",
      "Kate은 40분동안 업무를 합니다.\n"
     ]
    }
   ],
   "metadata": {}
  },
  {
   "cell_type": "markdown",
   "source": [
    "#### super \n",
    " - 하위클래스(자식 클래스)에서 부모클래스의 method를 호출할 때 사용"
   ],
   "metadata": {}
  },
  {
   "cell_type": "code",
   "execution_count": 27,
   "source": [
    "class Person:\r\n",
    "    def __init__(self, name, age):\r\n",
    "        self.name = name\r\n",
    "        self.age = age\r\n",
    "        \r\n",
    "    def eat(self, food):\r\n",
    "        print('{}은 {}를 먹습니다.'.format(self.name, food))\r\n",
    "        \r\n",
    "    def sleep(self, minute):\r\n",
    "        print('{}은 {}분동안 잡니다.'.format(self.name, minute))\r\n",
    "        \r\n",
    "    def work(self, minute):\r\n",
    "        print('{}은 {}분동안 준비를 합니다.'.format(self.name, minute))\r\n",
    "    \r\n",
    "\r\n",
    "\r\n",
    "class Student(Person):\r\n",
    "    def __init__(self, name, age):\r\n",
    "        self.name = name\r\n",
    "        self.age = age\r\n",
    "        \r\n",
    "    def work(self, minute):\r\n",
    "        super().work(minute)\r\n",
    "        print('{}은 {}분동안 공부합니다.'.format(self.name, minute))\r\n",
    "        \r\n",
    "    \r\n",
    "class Employee(Person):\r\n",
    "    def __init__(self, name, age):\r\n",
    "        self.name = name\r\n",
    "        self.age = age\r\n",
    "\r\n",
    "    def work(self, minute):\r\n",
    "        super().work(minute)\r\n",
    "        print('{}은 {}분동안 업무를 합니다.'.format(self.name, minute))\r\n",
    "        \r\n",
    "        \r\n",
    "\r\n",
    "bob = Student('Bob', 25)\r\n",
    "bob.eat('BBQ')\r\n",
    "bob.sleep(30)\r\n",
    "bob.work(60)\r\n",
    "\r\n",
    "\r\n",
    "bob = Employee('Kate', 30)\r\n",
    "bob.eat('BBQ')\r\n",
    "bob.sleep(20)\r\n",
    "bob.work(40)"
   ],
   "outputs": [
    {
     "output_type": "stream",
     "name": "stdout",
     "text": [
      "Bob은 BBQ를 먹습니다.\n",
      "Bob은 30분동안 잡니다.\n",
      "Bob은 60분동안 준비를 합니다.\n",
      "Bob은 60분동안 공부합니다.\n",
      "Kate은 BBQ를 먹습니다.\n",
      "Kate은 20분동안 잡니다.\n",
      "Kate은 40분동안 준비를 합니다.\n",
      "Kate은 40분동안 업무를 합니다.\n"
     ]
    }
   ],
   "metadata": {}
  },
  {
   "cell_type": "markdown",
   "source": [
    "#### **self**\n",
    " - 파이썬의 method는 항상 첫번째 인자로 self를 전달\n",
    " - self는 현재 해당 메쏘드가 호출되는 객체 자신을 가리킴\n",
    " - C++/C#, Java의 this에 해당\n",
    " - 역시, 이름이 self일 필요는 없으나, 위치는 항상 맨 처음의 parameter이며 관례적으로 self로 사용"
   ],
   "metadata": {}
  },
  {
   "cell_type": "markdown",
   "source": [
    "#### **method type**\n",
    " - instance method - 객체로 호출\n",
    "   - 메쏘드는 객체 레벨로 호출 되기 때문에, 해당 메쏘드를 호출한 객체에만 영향을 미침\n",
    " - class method    - class로 호출\n",
    "   - 클래스 메쏘드의 경우, 클래스 레벨로 호출되기 때문에, 클래스 멤버 변수만 변경 가능\n"
   ],
   "metadata": {}
  },
  {
   "cell_type": "code",
   "execution_count": 17,
   "source": [
    "class Math:\r\n",
    "    @staticmethod\r\n",
    "    def add(a, b):\r\n",
    "        return a + b\r\n",
    "    \r\n",
    "    @staticmethod\r\n",
    "    def multiply(a, b):\r\n",
    "        return a * b\r\n",
    "    \r\n",
    "\r\n",
    "#m = Math()\r\n",
    "#m.add(10, 20)\r\n",
    "\r\n",
    "# 객체 생성 필요 없이 바로 클래스 이름으로 부를 수 있다. \r\n",
    "Math.add(10, 20)"
   ],
   "outputs": [
    {
     "output_type": "execute_result",
     "data": {
      "text/plain": [
       "30"
      ]
     },
     "metadata": {},
     "execution_count": 17
    }
   ],
   "metadata": {}
  },
  {
   "cell_type": "markdown",
   "source": [
    "#### **special method**\n",
    " - __로 시작 __로 끝나는 특수 함수\n",
    " - 해당 메쏘드들을 구현하면, 커스텀 객체에 여러가지 파이썬 내장 함수나 연산자를 적용 가능\n",
    " - 오버라이딩 가능한 함수 목록은 아래 링크에서 참조 \n",
    "   - https://docs.python.org/3/reference/datamodel.html"
   ],
   "metadata": {}
  },
  {
   "cell_type": "code",
   "execution_count": 35,
   "source": [
    "# Point \r\n",
    "# 2차원 좌표평면 각 점(x, y) \r\n",
    "# 연산\r\n",
    "# 두점 의 덧셈, 뺄셈 (1, 2) + (3, 4) = (4, 6)\r\n",
    "# 한점과 숫자의 곱셈 (1,  2) * 3 = (3, 6)\r\n",
    "# 그 점의 길이 (0,0) 부터의 거리\r\n",
    "# x, y 값 가져오기\r\n",
    "# 출력하기\r\n",
    "\r\n",
    "class Point:\r\n",
    "    def __init__(self, x, y):\r\n",
    "        self.x = x\r\n",
    "        self.y = y \r\n",
    "        \r\n",
    "    def __add__(self, pt):\r\n",
    "        new_x = self.x + pt.x\r\n",
    "        new_y = self.y + pt.y\r\n",
    "        return Point(new_x, new_y)\r\n",
    "    \r\n",
    "    def add2(self, pt):\r\n",
    "        new_x = self.x + pt.x\r\n",
    "        new_y = self.y + pt.y\r\n",
    "        return Point(new_x, new_y)\r\n",
    "    \r\n",
    "    def __sub__(self, pt):\r\n",
    "        new_x = self.x - pt.x\r\n",
    "        new_y = self.y - pt.y\r\n",
    "        return Point(new_x, new_y)\r\n",
    "    \r\n",
    "    def __mul__(self, factor):\r\n",
    "        return Point(self.x * factor, self.y * factor)\r\n",
    "    \r\n",
    "    def __getitem__(self, index):\r\n",
    "        if index == 0:\r\n",
    "            return self.x\r\n",
    "        elif index == 1:\r\n",
    "            return self.y\r\n",
    "        else:\r\n",
    "            return -1\r\n",
    "    \r\n",
    "    def __len__(self):\r\n",
    "        return self.x ** 2 + self.y ** 2\r\n",
    "        \r\n",
    "    def __str__(self):\r\n",
    "        return '({}, {})'.format(self.x, self.y)\r\n",
    "    \r\n",
    "    \r\n",
    "        \r\n",
    "p1 = Point(3, 4)\r\n",
    "p2 = Point(2, 7)\r\n",
    "\r\n",
    "\r\n",
    "print('p1.add(p2): ', p1.add2(p2))\r\n",
    "print('p1 + p2: ', p1+p2)\r\n",
    "print('len(p1): ', len(p1))\r\n",
    "\r\n",
    "\r\n",
    "p4 = p1 - p2\r\n",
    "\r\n",
    "# p5 = p1.multiply(3)\r\n",
    "p5 = p1 * 3\r\n",
    "\r\n",
    "# p1[0] -> x\r\n",
    "# p1[1] -> y\r\n",
    "print('p1[0]: ', p1[0])\r\n",
    "print('p1[1]: ', p1[1])\r\n",
    "print('p1: ', p1)\r\n",
    "print('p2: ', p2)\r\n",
    "print('p1 - p2: ', p4)\r\n",
    "print('p1 * 3: ', p5)"
   ],
   "outputs": [
    {
     "output_type": "stream",
     "name": "stdout",
     "text": [
      "p1.add(p2):  (5, 11)\n",
      "p1 + p2:  (5, 11)\n",
      "len(p1):  25\n",
      "p1[0]:  3\n",
      "p1[1]:  4\n",
      "p1:  (3, 4)\n",
      "p2:  (2, 7)\n",
      "p1 - p2:  (1, -3)\n",
      "p1 * 3:  (9, 12)\n"
     ]
    }
   ],
   "metadata": {}
  }
 ],
 "metadata": {
  "kernelspec": {
   "display_name": "Python 3",
   "language": "python",
   "name": "python3"
  },
  "language_info": {
   "codemirror_mode": {
    "name": "ipython",
    "version": 3
   },
   "file_extension": ".py",
   "mimetype": "text/x-python",
   "name": "python",
   "nbconvert_exporter": "python",
   "pygments_lexer": "ipython3",
   "version": "3.8.8"
  }
 },
 "nbformat": 4,
 "nbformat_minor": 1
}