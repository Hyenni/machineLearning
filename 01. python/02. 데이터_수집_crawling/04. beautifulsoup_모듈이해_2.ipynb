{
 "cells": [
  {
   "cell_type": "markdown",
   "source": [
    "### 학습목표\n",
    "1. beautifulsoup 모듈 사용하기\n",
    "2. id, class 속성으로 tag 찾기\n",
    "3. CSS를 이용하여 tag 찾기\n",
    "4. 속성 값으로 tag 찾기\n",
    "5. 정규표현식으로 tag 찾기\n",
    "6. 개발자도구를 이용하여 동적으로 로딩되는 데이터 추출하기"
   ],
   "metadata": {}
  },
  {
   "cell_type": "code",
   "execution_count": 3,
   "source": [
    "import requests\r\n",
    "from bs4 import BeautifulSoup"
   ],
   "outputs": [],
   "metadata": {}
  },
  {
   "cell_type": "markdown",
   "source": [
    "#### 다음 뉴스 데이터 추출\r\n",
    " - 뉴스기사에서 제목, 작성자, 작성일\r\n",
    " , 댓글 개수 추출\r\n",
    " - [뉴스링크](https://news.v.daum.net/v/20190728165812603)\r\n",
    " - tag를 추출할때는 가장 그 tag를 쉽게 특정할 수 있는 속성을 사용\r\n",
    "  - id의 경우 원칙적으로 한 html 문서 내에서 유일\r\n",
    "  "
   ],
   "metadata": {}
  },
  {
   "cell_type": "code",
   "execution_count": null,
   "source": [
    "url = 'https://news.v.daum.net/v/20190728165812603'\r\n",
    "resp = requests.get(url)\r\n",
    "\r\n",
    "resp.text"
   ],
   "outputs": [],
   "metadata": {}
  },
  {
   "cell_type": "markdown",
   "source": [
    "#### class 속성으로 tag 찾기\r\n",
    "* 타이틀\r\n",
    "* 작성자, 작성일\r\n"
   ],
   "metadata": {}
  },
  {
   "cell_type": "markdown",
   "source": [
    "![api4](https://user-images.githubusercontent.com/33708512/132946777-914e4c38-f21f-4212-a0e2-918cd1c7d081.PNG)"
   ],
   "metadata": {}
  },
  {
   "cell_type": "code",
   "execution_count": 21,
   "source": [
    "url = 'https://news.v.daum.net/v/20190728165812603'\r\n",
    "resp = requests.get(url)\r\n",
    "\r\n",
    "soup = BeautifulSoup(resp.text)\r\n",
    "title = soup.find('h3', class_='tit_view')\r\n",
    "title"
   ],
   "outputs": [
    {
     "output_type": "execute_result",
     "data": {
      "text/plain": [
       "<h3 class=\"tit_view\" data-translation=\"true\">일론머스크 \"테슬라에서 넷플릭스·유튜브 즐길 날 온다\"</h3>"
      ]
     },
     "metadata": {},
     "execution_count": 21
    }
   ],
   "metadata": {}
  },
  {
   "cell_type": "code",
   "execution_count": 22,
   "source": [
    "title.get_text()"
   ],
   "outputs": [
    {
     "output_type": "execute_result",
     "data": {
      "text/plain": [
       "'일론머스크 \"테슬라에서 넷플릭스·유튜브 즐길 날 온다\"'"
      ]
     },
     "metadata": {},
     "execution_count": 22
    }
   ],
   "metadata": {}
  },
  {
   "cell_type": "markdown",
   "source": [
    "작성자와 작성일을 가져오는 방법\r\n",
    "1. span 태그에서 class가 txt_info인 것을 모두 찾고, 리스트 형태이기 때문에 0, 1 인덱스를 이용해서 두 번 호출하여 값을 가져올 수 있다."
   ],
   "metadata": {}
  },
  {
   "cell_type": "code",
   "execution_count": 24,
   "source": [
    "soup.find_all('span', class_ = 'txt_info')"
   ],
   "outputs": [
    {
     "output_type": "execute_result",
     "data": {
      "text/plain": [
       "[<span class=\"txt_info\">이민우</span>,\n",
       " <span class=\"txt_info\">입력 <span class=\"num_date\">2019. 07. 28. 16:58</span></span>]"
      ]
     },
     "metadata": {},
     "execution_count": 24
    }
   ],
   "metadata": {}
  },
  {
   "cell_type": "code",
   "execution_count": 26,
   "source": [
    "print(soup.find_all('span', class_ = 'txt_info')[0])\r\n",
    "print(soup.find_all('span', class_ = 'txt_info')[1])"
   ],
   "outputs": [
    {
     "output_type": "stream",
     "name": "stdout",
     "text": [
      "<span class=\"txt_info\">이민우</span>\n",
      "<span class=\"txt_info\">입력 <span class=\"num_date\">2019. 07. 28. 16:58</span></span>\n"
     ]
    }
   ],
   "metadata": {}
  },
  {
   "cell_type": "markdown",
   "source": [
    "작성자와 작성일을 가져오는 방법\n",
    "\n",
    "2. 부모 태그를 찾고 (info_view), 그 안에서 한 번 더 찾으면 됨"
   ],
   "metadata": {}
  },
  {
   "cell_type": "code",
   "execution_count": 28,
   "source": [
    "info = soup.find('span', class_ = 'info_view')\r\n",
    "info"
   ],
   "outputs": [
    {
     "output_type": "execute_result",
     "data": {
      "text/plain": [
       "<span class=\"info_view\"> <span class=\"txt_info\">이민우</span> <span class=\"txt_info\">입력 <span class=\"num_date\">2019. 07. 28. 16:58</span></span> <button class=\"emph_g2 link_cmt\" id=\"alexCounter\">댓글 <span class=\"alex-count-area\">0</span>개</button> </span>"
      ]
     },
     "metadata": {},
     "execution_count": 28
    }
   ],
   "metadata": {}
  },
  {
   "cell_type": "code",
   "execution_count": 30,
   "source": [
    "info.find('span', class_='txt_info')"
   ],
   "outputs": [
    {
     "output_type": "execute_result",
     "data": {
      "text/plain": [
       "<span class=\"txt_info\">이민우</span>"
      ]
     },
     "metadata": {},
     "execution_count": 30
    }
   ],
   "metadata": {}
  },
  {
   "cell_type": "markdown",
   "source": [
    "#### id 속성으로 tag 찾기\r\n",
    "* 본문"
   ],
   "metadata": {}
  },
  {
   "cell_type": "code",
   "execution_count": 31,
   "source": [
    "container = soup.find('div', id = 'harmonyContainer')\r\n",
    "container"
   ],
   "outputs": [
    {
     "output_type": "execute_result",
     "data": {
      "text/plain": [
       "<div class=\"article_view\" data-translation-body=\"true\" id=\"harmonyContainer\">\n",
       "<section dmcf-sid=\"NkBWHdyrlY\">\n",
       "<figure class=\"figure_frm origin_fig\" dmcf-pid=\"N7s2biXYTL\" dmcf-ptype=\"figure\">\n",
       "<p class=\"link_figure\"><img alt=\"일론 머스크 테슬라 최고경영자(CEO) [이미지출처=로이터연합뉴스]\" class=\"thumb_g_article\" data-org-src=\"https://t1.daumcdn.net/news/201907/28/akn/20190728165813230vjsq.jpg\" data-org-width=\"550\" dmcf-mid=\"NBMY3ZZhN4\" dmcf-mtype=\"image\" height=\"auto\" src=\"https://img3.daumcdn.net/thumb/R658x0.q70/?fname=https://t1.daumcdn.net/news/201907/28/akn/20190728165813230vjsq.jpg\" width=\"658\"/></p>\n",
       "<figcaption class=\"txt_caption default_figure\">\n",
       "            일론 머스크 테슬라 최고경영자(CEO) [이미지출처=로이터연합뉴스]\n",
       "           </figcaption>\n",
       "</figure>\n",
       "<div dmcf-pid=\"NU9K9rfDgA\" dmcf-ptype=\"general\">\n",
       "<p>[아시아경제 이민우 기자] 일론 머스크 테슬라 최고경영자(CEO)가 자사 전기 자동차 모델에 넷플릭스와 유튜브 등 온라인동영상서비스(OTT)를 탑재할 것이라고 예고했다. 단순히 자율 주행 전기차가 단순히 주행을 위한 정보를 알려주는 것을 넘어 각종 영상 콘텐츠를 즐기는 공간으로도 확장하겠다는 전략으로 풀이된다.</p>\n",
       "<br/>\n",
       "<p>27일(현지시간) 더버지 등 주요 외신들에 따르면 머스크 CEO는 자신의 트위터를 통해 이 같은 계획을 밝혔다. 그는 \"자동차가 정차했을 때 넷플릭스와 유튜브를 감상할 수 있는 기능이 조만간 추가될 것\"이라며 \"편안한 좌석과 서라운드 사운드 오디오를 통해 영화관과 같은 느낌을 받을 수 있을 것\"이라고 강조했다.</p>\n",
       "</div>\n",
       "<figure class=\"figure_frm origin_fig\" dmcf-pid=\"NlqQhf4JmF\" dmcf-ptype=\"figure\">\n",
       "<p class=\"link_figure\"><img alt=\"(출처=일론 머스크 트위터 계정 캡쳐)\" class=\"thumb_g_article\" data-org-src=\"https://t1.daumcdn.net/news/201907/28/akn/20190728165813670hwxf.png\" data-org-width=\"550\" dmcf-mid=\"NRhnb5SRpx\" dmcf-mtype=\"image\" height=\"auto\" src=\"https://img4.daumcdn.net/thumb/R658x0.q70/?fname=https://t1.daumcdn.net/news/201907/28/akn/20190728165813670hwxf.png\" width=\"658\"/></p>\n",
       "<figcaption class=\"txt_caption default_figure\">\n",
       "            (출처=일론 머스크 트위터 계정 캡쳐)\n",
       "           </figcaption>\n",
       "</figure>\n",
       "<div dmcf-pid=\"NpkG4d9A6j\" dmcf-ptype=\"general\">\n",
       "<p>테슬라가 이처럼 콘텐츠 방면으로 확장하려 든 것은 이번이 처음이 아니다. 지난달 세계 최대 게임쇼 E3에서는 이미 운전자가 '폴아웃 쉘터'라는 게임을 할 수 있을 것이라고 발표한 바 있다. 이후에도 최근 게임업체 아타리사(社)의 자동차 경주 게임 ‘폴포지션’, 슈팅게임 ‘템페스트’, ‘미사일커맨드’ 등 고전 게임을 제공하기도 했다. 운전대로 게임을 조작하는 방식으로, 차가 주차돼 있을 경우에만 즐길 수 있다.</p>\n",
       "<br/>\n",
       "<p>이번 영상 콘텐츠는 주행 중에도 감상할 수 있도록 하는 방안을 고려하고 있다. 테슬라 측은 규제당국이 자율주행에 대해 완전히 승인하면 차량이 움직일 때에도 승객이 동영상을 즐길 수 있을 것이라고 설명했다.</p>\n",
       "<br/>\n",
       "<p>하지만 아직까지 자율주행차의 안전에 대한 우려는 완전히 걷혀지지 않은 상황이다. 지난 2017년 차량공유 서비스 우버의 자율주행 시범차량이 보행자와 충돌한 사고가 발생한 바 있다. 게다가 당시 시험 운전자는 디즈니의 동영상 스트리밍 서비스인 '훌루'를 이용하고 있던 것으로 밝혀졌다.</p>\n",
       "</div>\n",
       "<p dmcf-pid=\"NUOWg8Qxyd\" dmcf-ptype=\"general\">이민우 기자 letzwin@asiae.co.kr</p>\n",
       "</section>\n",
       "<p data-translation=\"true\">&lt;ⓒ경제를 보는 눈, 세계를 보는 창 아시아경제 무단전재 배포금지&gt;</p>\n",
       "</div>"
      ]
     },
     "metadata": {},
     "execution_count": 31
    }
   ],
   "metadata": {
    "scrolled": true
   }
  },
  {
   "cell_type": "code",
   "execution_count": 33,
   "source": [
    "container.find_all('p')  # 본문내용"
   ],
   "outputs": [
    {
     "output_type": "execute_result",
     "data": {
      "text/plain": [
       "[<p class=\"link_figure\"><img alt=\"일론 머스크 테슬라 최고경영자(CEO) [이미지출처=로이터연합뉴스]\" class=\"thumb_g_article\" data-org-src=\"https://t1.daumcdn.net/news/201907/28/akn/20190728165813230vjsq.jpg\" data-org-width=\"550\" dmcf-mid=\"NBMY3ZZhN4\" dmcf-mtype=\"image\" height=\"auto\" src=\"https://img3.daumcdn.net/thumb/R658x0.q70/?fname=https://t1.daumcdn.net/news/201907/28/akn/20190728165813230vjsq.jpg\" width=\"658\"/></p>,\n",
       " <p>[아시아경제 이민우 기자] 일론 머스크 테슬라 최고경영자(CEO)가 자사 전기 자동차 모델에 넷플릭스와 유튜브 등 온라인동영상서비스(OTT)를 탑재할 것이라고 예고했다. 단순히 자율 주행 전기차가 단순히 주행을 위한 정보를 알려주는 것을 넘어 각종 영상 콘텐츠를 즐기는 공간으로도 확장하겠다는 전략으로 풀이된다.</p>,\n",
       " <p>27일(현지시간) 더버지 등 주요 외신들에 따르면 머스크 CEO는 자신의 트위터를 통해 이 같은 계획을 밝혔다. 그는 \"자동차가 정차했을 때 넷플릭스와 유튜브를 감상할 수 있는 기능이 조만간 추가될 것\"이라며 \"편안한 좌석과 서라운드 사운드 오디오를 통해 영화관과 같은 느낌을 받을 수 있을 것\"이라고 강조했다.</p>,\n",
       " <p class=\"link_figure\"><img alt=\"(출처=일론 머스크 트위터 계정 캡쳐)\" class=\"thumb_g_article\" data-org-src=\"https://t1.daumcdn.net/news/201907/28/akn/20190728165813670hwxf.png\" data-org-width=\"550\" dmcf-mid=\"NRhnb5SRpx\" dmcf-mtype=\"image\" height=\"auto\" src=\"https://img4.daumcdn.net/thumb/R658x0.q70/?fname=https://t1.daumcdn.net/news/201907/28/akn/20190728165813670hwxf.png\" width=\"658\"/></p>,\n",
       " <p>테슬라가 이처럼 콘텐츠 방면으로 확장하려 든 것은 이번이 처음이 아니다. 지난달 세계 최대 게임쇼 E3에서는 이미 운전자가 '폴아웃 쉘터'라는 게임을 할 수 있을 것이라고 발표한 바 있다. 이후에도 최근 게임업체 아타리사(社)의 자동차 경주 게임 ‘폴포지션’, 슈팅게임 ‘템페스트’, ‘미사일커맨드’ 등 고전 게임을 제공하기도 했다. 운전대로 게임을 조작하는 방식으로, 차가 주차돼 있을 경우에만 즐길 수 있다.</p>,\n",
       " <p>이번 영상 콘텐츠는 주행 중에도 감상할 수 있도록 하는 방안을 고려하고 있다. 테슬라 측은 규제당국이 자율주행에 대해 완전히 승인하면 차량이 움직일 때에도 승객이 동영상을 즐길 수 있을 것이라고 설명했다.</p>,\n",
       " <p>하지만 아직까지 자율주행차의 안전에 대한 우려는 완전히 걷혀지지 않은 상황이다. 지난 2017년 차량공유 서비스 우버의 자율주행 시범차량이 보행자와 충돌한 사고가 발생한 바 있다. 게다가 당시 시험 운전자는 디즈니의 동영상 스트리밍 서비스인 '훌루'를 이용하고 있던 것으로 밝혀졌다.</p>,\n",
       " <p dmcf-pid=\"NUOWg8Qxyd\" dmcf-ptype=\"general\">이민우 기자 letzwin@asiae.co.kr</p>,\n",
       " <p data-translation=\"true\">&lt;ⓒ경제를 보는 눈, 세계를 보는 창 아시아경제 무단전재 배포금지&gt;</p>]"
      ]
     },
     "metadata": {},
     "execution_count": 33
    }
   ],
   "metadata": {}
  },
  {
   "cell_type": "code",
   "execution_count": 37,
   "source": [
    "contents = ''\r\n",
    "\r\n",
    "for p in container.find_all('p'):\r\n",
    "    contents += p.get_text().strip()\r\n",
    "    \r\n",
    "    \r\n",
    "contents"
   ],
   "outputs": [
    {
     "output_type": "execute_result",
     "data": {
      "text/plain": [
       "'[아시아경제 이민우 기자] 일론 머스크 테슬라 최고경영자(CEO)가 자사 전기 자동차 모델에 넷플릭스와 유튜브 등 온라인동영상서비스(OTT)를 탑재할 것이라고 예고했다. 단순히 자율 주행 전기차가 단순히 주행을 위한 정보를 알려주는 것을 넘어 각종 영상 콘텐츠를 즐기는 공간으로도 확장하겠다는 전략으로 풀이된다.27일(현지시간) 더버지 등 주요 외신들에 따르면 머스크 CEO는 자신의 트위터를 통해 이 같은 계획을 밝혔다. 그는 \"자동차가 정차했을 때 넷플릭스와 유튜브를 감상할 수 있는 기능이 조만간 추가될 것\"이라며 \"편안한 좌석과 서라운드 사운드 오디오를 통해 영화관과 같은 느낌을 받을 수 있을 것\"이라고 강조했다.테슬라가 이처럼 콘텐츠 방면으로 확장하려 든 것은 이번이 처음이 아니다. 지난달 세계 최대 게임쇼 E3에서는 이미 운전자가 \\'폴아웃 쉘터\\'라는 게임을 할 수 있을 것이라고 발표한 바 있다. 이후에도 최근 게임업체 아타리사(社)의 자동차 경주 게임 ‘폴포지션’, 슈팅게임 ‘템페스트’, ‘미사일커맨드’ 등 고전 게임을 제공하기도 했다. 운전대로 게임을 조작하는 방식으로, 차가 주차돼 있을 경우에만 즐길 수 있다.이번 영상 콘텐츠는 주행 중에도 감상할 수 있도록 하는 방안을 고려하고 있다. 테슬라 측은 규제당국이 자율주행에 대해 완전히 승인하면 차량이 움직일 때에도 승객이 동영상을 즐길 수 있을 것이라고 설명했다.하지만 아직까지 자율주행차의 안전에 대한 우려는 완전히 걷혀지지 않은 상황이다. 지난 2017년 차량공유 서비스 우버의 자율주행 시범차량이 보행자와 충돌한 사고가 발생한 바 있다. 게다가 당시 시험 운전자는 디즈니의 동영상 스트리밍 서비스인 \\'훌루\\'를 이용하고 있던 것으로 밝혀졌다.이민우 기자 letzwin@asiae.co.kr<ⓒ경제를 보는 눈, 세계를 보는 창 아시아경제 무단전재 배포금지>'"
      ]
     },
     "metadata": {},
     "execution_count": 37
    }
   ],
   "metadata": {}
  },
  {
   "cell_type": "markdown",
   "source": [
    "#### CSS를 이용하여 tag 찾기\r\n",
    " - select, select_one함수 사용 \r\n",
    " - css selector 사용법\r\n",
    "   - 태그명 찾기 tag \r\n",
    "   - 자손 태그 찾기 - 자손 관계 (tag tag)\r\n",
    "   - 자식 태그 찾기 - 다이렉트 자식 관계 (tag > tag)\r\n",
    "   - 아이디 찾기 #id\r\n",
    "   - 클래스 찾기 .class\r\n",
    "   - 속성값 찾기 [name='test']\r\n",
    "     - 속성값 prefix 찾기 [name ^='test']\r\n",
    "     - 속성값 suffix 찾기 [name $='test']\r\n",
    "     - 속성값 substring 찾기 [name *='test]\r\n",
    "   - n번째 자식 tag 찾기 :nth-child(n)"
   ],
   "metadata": {}
  },
  {
   "cell_type": "code",
   "execution_count": 38,
   "source": [
    "url = 'https://news.v.daum.net/v/20190728165812603'\r\n",
    "resp = requests.get(url)\r\n",
    "\r\n",
    "soup = BeautifulSoup(resp.text)\r\n",
    "soup.select('h3')"
   ],
   "outputs": [
    {
     "output_type": "execute_result",
     "data": {
      "text/plain": [
       "[<h3 class=\"tit_view\" data-translation=\"true\">일론머스크 \"테슬라에서 넷플릭스·유튜브 즐길 날 온다\"</h3>,\n",
       " <h3 class=\"tit_cp\">아시아경제 주요 뉴스</h3>,\n",
       " <h3 class=\"txt_newsview\">많이본 뉴스</h3>,\n",
       " <h3 class=\"txt_newsview\">포토&amp;TV</h3>,\n",
       " <h3 class=\"txt_newsview\">이 시각 추천뉴스</h3>]"
      ]
     },
     "metadata": {},
     "execution_count": 38
    }
   ],
   "metadata": {}
  },
  {
   "cell_type": "markdown",
   "source": [
    "* id 찾기\r\n",
    "\r\n",
    "soup.select('div#harmonyContainer') => div 태그이면서 id가 harmonyContainer인것을 찾는 것이며, id가 유일하기 때문에 soup.select('#harmonyContainer')과 결과는 같음.\r\n",
    "\r\n",
    "* 자손 태그 찾기\r\n",
    "\r\n",
    "harmonyContainer안에는 위에서 봤듯이 본문 내용이 포함되어 있으며, p태그는 바로 아래에 위치하지 아니기 때문에 자손 태그임. "
   ],
   "metadata": {}
  },
  {
   "cell_type": "code",
   "execution_count": 41,
   "source": [
    "soup.select('#harmonyContainer p')"
   ],
   "outputs": [
    {
     "output_type": "execute_result",
     "data": {
      "text/plain": [
       "[<p class=\"link_figure\"><img alt=\"일론 머스크 테슬라 최고경영자(CEO) [이미지출처=로이터연합뉴스]\" class=\"thumb_g_article\" data-org-src=\"https://t1.daumcdn.net/news/201907/28/akn/20190728165813230vjsq.jpg\" data-org-width=\"550\" dmcf-mid=\"NBMY3ZZhN4\" dmcf-mtype=\"image\" height=\"auto\" src=\"https://img4.daumcdn.net/thumb/R658x0.q70/?fname=https://t1.daumcdn.net/news/201907/28/akn/20190728165813230vjsq.jpg\" width=\"658\"/></p>,\n",
       " <p>[아시아경제 이민우 기자] 일론 머스크 테슬라 최고경영자(CEO)가 자사 전기 자동차 모델에 넷플릭스와 유튜브 등 온라인동영상서비스(OTT)를 탑재할 것이라고 예고했다. 단순히 자율 주행 전기차가 단순히 주행을 위한 정보를 알려주는 것을 넘어 각종 영상 콘텐츠를 즐기는 공간으로도 확장하겠다는 전략으로 풀이된다.</p>,\n",
       " <p>27일(현지시간) 더버지 등 주요 외신들에 따르면 머스크 CEO는 자신의 트위터를 통해 이 같은 계획을 밝혔다. 그는 \"자동차가 정차했을 때 넷플릭스와 유튜브를 감상할 수 있는 기능이 조만간 추가될 것\"이라며 \"편안한 좌석과 서라운드 사운드 오디오를 통해 영화관과 같은 느낌을 받을 수 있을 것\"이라고 강조했다.</p>,\n",
       " <p class=\"link_figure\"><img alt=\"(출처=일론 머스크 트위터 계정 캡쳐)\" class=\"thumb_g_article\" data-org-src=\"https://t1.daumcdn.net/news/201907/28/akn/20190728165813670hwxf.png\" data-org-width=\"550\" dmcf-mid=\"NRhnb5SRpx\" dmcf-mtype=\"image\" height=\"auto\" src=\"https://img4.daumcdn.net/thumb/R658x0.q70/?fname=https://t1.daumcdn.net/news/201907/28/akn/20190728165813670hwxf.png\" width=\"658\"/></p>,\n",
       " <p>테슬라가 이처럼 콘텐츠 방면으로 확장하려 든 것은 이번이 처음이 아니다. 지난달 세계 최대 게임쇼 E3에서는 이미 운전자가 '폴아웃 쉘터'라는 게임을 할 수 있을 것이라고 발표한 바 있다. 이후에도 최근 게임업체 아타리사(社)의 자동차 경주 게임 ‘폴포지션’, 슈팅게임 ‘템페스트’, ‘미사일커맨드’ 등 고전 게임을 제공하기도 했다. 운전대로 게임을 조작하는 방식으로, 차가 주차돼 있을 경우에만 즐길 수 있다.</p>,\n",
       " <p>이번 영상 콘텐츠는 주행 중에도 감상할 수 있도록 하는 방안을 고려하고 있다. 테슬라 측은 규제당국이 자율주행에 대해 완전히 승인하면 차량이 움직일 때에도 승객이 동영상을 즐길 수 있을 것이라고 설명했다.</p>,\n",
       " <p>하지만 아직까지 자율주행차의 안전에 대한 우려는 완전히 걷혀지지 않은 상황이다. 지난 2017년 차량공유 서비스 우버의 자율주행 시범차량이 보행자와 충돌한 사고가 발생한 바 있다. 게다가 당시 시험 운전자는 디즈니의 동영상 스트리밍 서비스인 '훌루'를 이용하고 있던 것으로 밝혀졌다.</p>,\n",
       " <p dmcf-pid=\"NUOWg8Qxyd\" dmcf-ptype=\"general\">이민우 기자 letzwin@asiae.co.kr</p>,\n",
       " <p data-translation=\"true\">&lt;ⓒ경제를 보는 눈, 세계를 보는 창 아시아경제 무단전재 배포금지&gt;</p>]"
      ]
     },
     "metadata": {},
     "execution_count": 41
    }
   ],
   "metadata": {}
  },
  {
   "cell_type": "markdown",
   "source": [
    "* 클래스 찾기"
   ],
   "metadata": {}
  },
  {
   "cell_type": "code",
   "execution_count": 42,
   "source": [
    "soup.select('h3')"
   ],
   "outputs": [
    {
     "output_type": "execute_result",
     "data": {
      "text/plain": [
       "[<h3 class=\"tit_view\" data-translation=\"true\">일론머스크 \"테슬라에서 넷플릭스·유튜브 즐길 날 온다\"</h3>,\n",
       " <h3 class=\"tit_cp\">아시아경제 주요 뉴스</h3>,\n",
       " <h3 class=\"txt_newsview\">많이본 뉴스</h3>,\n",
       " <h3 class=\"txt_newsview\">포토&amp;TV</h3>,\n",
       " <h3 class=\"txt_newsview\">이 시각 추천뉴스</h3>]"
      ]
     },
     "metadata": {},
     "execution_count": 42
    }
   ],
   "metadata": {}
  },
  {
   "cell_type": "code",
   "execution_count": 43,
   "source": [
    "soup.select('h3.tit_view')"
   ],
   "outputs": [
    {
     "output_type": "execute_result",
     "data": {
      "text/plain": [
       "[<h3 class=\"tit_view\" data-translation=\"true\">일론머스크 \"테슬라에서 넷플릭스·유튜브 즐길 날 온다\"</h3>]"
      ]
     },
     "metadata": {},
     "execution_count": 43
    }
   ],
   "metadata": {}
  },
  {
   "cell_type": "markdown",
   "source": [
    "* 속성값 찾기\n",
    "\n",
    "모든 속성은 대괄호를 이용해서 속성 값을 명시해서 찾을 수 있으며, 단지 class와 id는 .과 #으로 단축키를 활용할 수 있음."
   ],
   "metadata": {}
  },
  {
   "cell_type": "code",
   "execution_count": 44,
   "source": [
    "soup.select('h3[class=\"tit_view\"]')"
   ],
   "outputs": [
    {
     "output_type": "execute_result",
     "data": {
      "text/plain": [
       "[<h3 class=\"tit_view\" data-translation=\"true\">일론머스크 \"테슬라에서 넷플릭스·유튜브 즐길 날 온다\"</h3>]"
      ]
     },
     "metadata": {},
     "execution_count": 44
    }
   ],
   "metadata": {
    "scrolled": true
   }
  },
  {
   "cell_type": "code",
   "execution_count": 48,
   "source": [
    "# 시작 문자열\r\n",
    "\r\n",
    "soup.select('h3[class^=\"tx\"]')"
   ],
   "outputs": [
    {
     "output_type": "execute_result",
     "data": {
      "text/plain": [
       "[<h3 class=\"txt_newsview\">많이본 뉴스</h3>,\n",
       " <h3 class=\"txt_newsview\">포토&amp;TV</h3>,\n",
       " <h3 class=\"txt_newsview\">이 시각 추천뉴스</h3>]"
      ]
     },
     "metadata": {},
     "execution_count": 48
    }
   ],
   "metadata": {}
  },
  {
   "cell_type": "code",
   "execution_count": 49,
   "source": [
    "# 끝 문자열\r\n",
    "\r\n",
    "soup.select('h3[class$=\"_view\"]')"
   ],
   "outputs": [
    {
     "output_type": "execute_result",
     "data": {
      "text/plain": [
       "[<h3 class=\"tit_view\" data-translation=\"true\">일론머스크 \"테슬라에서 넷플릭스·유튜브 즐길 날 온다\"</h3>]"
      ]
     },
     "metadata": {},
     "execution_count": 49
    }
   ],
   "metadata": {}
  },
  {
   "cell_type": "code",
   "execution_count": 50,
   "source": [
    "# 모든 문자열\r\n",
    "\r\n",
    "soup.select('h3[class*=\"_\"]')"
   ],
   "outputs": [
    {
     "output_type": "execute_result",
     "data": {
      "text/plain": [
       "[<h3 class=\"tit_view\" data-translation=\"true\">일론머스크 \"테슬라에서 넷플릭스·유튜브 즐길 날 온다\"</h3>,\n",
       " <h3 class=\"tit_cp\">아시아경제 주요 뉴스</h3>,\n",
       " <h3 class=\"txt_newsview\">많이본 뉴스</h3>,\n",
       " <h3 class=\"txt_newsview\">포토&amp;TV</h3>,\n",
       " <h3 class=\"txt_newsview\">이 시각 추천뉴스</h3>]"
      ]
     },
     "metadata": {},
     "execution_count": 50
    }
   ],
   "metadata": {}
  },
  {
   "cell_type": "markdown",
   "source": [
    "* n번째 자식 tag 찾기\n"
   ],
   "metadata": {}
  },
  {
   "cell_type": "code",
   "execution_count": 51,
   "source": [
    "soup.select('span.txt_info')"
   ],
   "outputs": [
    {
     "output_type": "execute_result",
     "data": {
      "text/plain": [
       "[<span class=\"txt_info\">이민우</span>,\n",
       " <span class=\"txt_info\">입력 <span class=\"num_date\">2019. 07. 28. 16:58</span></span>]"
      ]
     },
     "metadata": {},
     "execution_count": 51
    }
   ],
   "metadata": {}
  },
  {
   "cell_type": "code",
   "execution_count": 55,
   "source": [
    "soup.select('span.txt_info:nth-child(1)')"
   ],
   "outputs": [
    {
     "output_type": "execute_result",
     "data": {
      "text/plain": [
       "[<span class=\"txt_info\">이민우</span>]"
      ]
     },
     "metadata": {},
     "execution_count": 55
    }
   ],
   "metadata": {}
  },
  {
   "cell_type": "code",
   "execution_count": 53,
   "source": [
    "soup.select('span.txt_info:nth-child(2)')"
   ],
   "outputs": [
    {
     "output_type": "execute_result",
     "data": {
      "text/plain": [
       "[<span class=\"txt_info\">입력 <span class=\"num_date\">2019. 07. 28. 16:58</span></span>]"
      ]
     },
     "metadata": {},
     "execution_count": 53
    }
   ],
   "metadata": {}
  }
 ],
 "metadata": {
  "kernelspec": {
   "display_name": "Python 3",
   "language": "python",
   "name": "python3"
  },
  "language_info": {
   "codemirror_mode": {
    "name": "ipython",
    "version": 3
   },
   "file_extension": ".py",
   "mimetype": "text/x-python",
   "name": "python",
   "nbconvert_exporter": "python",
   "pygments_lexer": "ipython3",
   "version": "3.8.8"
  }
 },
 "nbformat": 4,
 "nbformat_minor": 2
}